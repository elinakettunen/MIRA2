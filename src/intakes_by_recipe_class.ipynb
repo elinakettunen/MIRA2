{
 "cells": [
  {
   "cell_type": "code",
   "execution_count": null,
   "id": "5994b7ca",
   "metadata": {},
   "outputs": [],
   "source": [
    "import pandas as pd\n",
    "\n",
    "from pathlib import Path\n",
    "Path(\"../data/main\").mkdir(parents=True, exist_ok=True)"
   ]
  },
  {
   "cell_type": "code",
   "execution_count": null,
   "id": "820ac94a",
   "metadata": {},
   "outputs": [],
   "source": [
    "energy_macros=[\n",
    "    'FAT',\n",
    "    'FAPU',\n",
    "    'FASAT',\n",
    "    'CHOAVL',\n",
    "    'PROT',\n",
    "    'FIBC',\n",
    "]"
   ]
  },
  {
   "cell_type": "code",
   "execution_count": null,
   "id": "8c8234a7",
   "metadata": {},
   "outputs": [],
   "source": [
    "aromi_records = pd.read_excel(\n",
    "    '../data/RAW/aromi_product_recipe.xlsx', \n",
    "    sheet_name='Tutkimusraportti',\n",
    "    usecols=[\n",
    "        'Tunnus',\n",
    "        'Reseptin/tuotteen tunnus',\n",
    "        'ID',\n",
    "        'NACL'\n",
    "    ] + energy_macros    \n",
    ")"
   ]
  },
  {
   "cell_type": "code",
   "execution_count": null,
   "id": "f1219382",
   "metadata": {},
   "outputs": [],
   "source": [
    "classes =  pd.read_excel(\n",
    "    '../data/public/recipe_class.xlsx'\n",
    ")"
   ]
  },
  {
   "cell_type": "code",
   "execution_count": null,
   "id": "5e6c8c7d",
   "metadata": {},
   "outputs": [],
   "source": [
    "classes['main_class'] = classes['class'].apply(lambda x: str(x)[:-2].zfill(2))\n",
    "classes['subclass'] = classes['class'].apply(lambda x: str(abs(x%100)).zfill(2))"
   ]
  },
  {
   "cell_type": "code",
   "execution_count": null,
   "id": "d95178be",
   "metadata": {},
   "outputs": [],
   "source": [
    "food_records = aromi_records.merge(\n",
    "    classes,\n",
    "    left_on='Reseptin/tuotteen tunnus', \n",
    "    right_on='recipe_id',\n",
    "    how='left'\n",
    ")"
   ]
  },
  {
   "cell_type": "code",
   "execution_count": null,
   "id": "b11dd9c6",
   "metadata": {},
   "outputs": [],
   "source": [
    "class_missing = food_records['Reseptin/tuotteen tunnus'] != food_records.recipe_id\n",
    "food_records[class_missing]"
   ]
  },
  {
   "cell_type": "code",
   "execution_count": null,
   "id": "43933655",
   "metadata": {},
   "outputs": [],
   "source": [
    "intake_per_person_per_subclass = food_records.groupby(['Tunnus','class']).sum()"
   ]
  },
  {
   "cell_type": "code",
   "execution_count": null,
   "id": "f86ea214",
   "metadata": {},
   "outputs": [],
   "source": [
    "intake_per_person_per_main_class = food_records.groupby(['Tunnus','main_class']).sum()"
   ]
  },
  {
   "cell_type": "code",
   "execution_count": null,
   "id": "cd045f75",
   "metadata": {},
   "outputs": [],
   "source": [
    "with pd.ExcelWriter('../data/main/intakes_per_recipe_class.xlsx') as writer:\n",
    "    food_records.to_excel(\n",
    "        writer, \n",
    "        sheet_name='food_records',\n",
    "        index=False\n",
    "    )\n",
    "    \n",
    "    intake_per_person_per_subclass.to_excel(\n",
    "        writer, \n",
    "        sheet_name='per_subclass',\n",
    "    )\n",
    "\n",
    "    intake_per_person_per_main_class.to_excel(\n",
    "        writer, \n",
    "        sheet_name='per_main_class',\n",
    "    )\n"
   ]
  }
 ],
 "metadata": {
  "kernelspec": {
   "display_name": "Python 3 (ipykernel)",
   "language": "python",
   "name": "python3"
  },
  "language_info": {
   "codemirror_mode": {
    "name": "ipython",
    "version": 3
   },
   "file_extension": ".py",
   "mimetype": "text/x-python",
   "name": "python",
   "nbconvert_exporter": "python",
   "pygments_lexer": "ipython3",
   "version": "3.9.12"
  }
 },
 "nbformat": 4,
 "nbformat_minor": 5
}
