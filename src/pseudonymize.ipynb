{
 "cells": [
  {
   "cell_type": "markdown",
   "id": "29ab257e",
   "metadata": {},
   "source": [
    "# Data Preprocessing\n",
    "\n",
    "This python notebook contains code needed to extract data for analysis from several source files containing personally identifiable information (PII). The outputs are data files in `data/main` that contain only data values for analysis and participant IDs, but no PII."
   ]
  },
  {
   "cell_type": "code",
   "execution_count": null,
   "id": "edf16a79",
   "metadata": {},
   "outputs": [],
   "source": [
    "import pandas as pd\n",
    "import numpy as np"
   ]
  },
  {
   "cell_type": "code",
   "execution_count": null,
   "id": "55495f81",
   "metadata": {},
   "outputs": [],
   "source": [
    "from pathlib import Path\n",
    "Path(\"../data/main\").mkdir(parents=True, exist_ok=True)"
   ]
  },
  {
   "cell_type": "code",
   "execution_count": null,
   "id": "03bb0cd3",
   "metadata": {},
   "outputs": [],
   "source": [
    "#reading only specific fields from redcap data to avoid PII\n",
    "df = pd.read_csv(\n",
    "    '../data/RAW/redcap/child.csv',\n",
    "    usecols=lambda c: c in ['id_child','id_family','mira2_lapsen_taustatieto_ja_ruoankyttkysely_timestamp'] or c.startswith('diet_')\n",
    ")\n",
    "\n",
    "#fixing known input errors\n",
    "\n",
    "#capitalizing all ids\n",
    "df.id_family = df.id_family.str.capitalize()\n",
    "df.id_child = df.id_child.str.capitalize()\n",
    "\n",
    "#swapping values where family- and child ids are swapped\n",
    "m = df.id_family.str.startswith('M') & df.id_child.str.startswith('P')\n",
    "\n",
    "df.loc[m, ['id_family', 'id_child']] = (\n",
    "    df.loc[m, ['id_child', 'id_family']].values)\n",
    "\n",
    "df.to_csv(\n",
    "    '../data/main/redcap_child_diet.csv',\n",
    "    index=False\n",
    ")"
   ]
  },
  {
   "cell_type": "code",
   "execution_count": null,
   "id": "1c3d60f3",
   "metadata": {},
   "outputs": [],
   "source": [
    "#full list of food intakes\n",
    "food_intake_records = pd.read_excel(\n",
    "    '../data/RAW/aromi_product_ingredient.xlsx', \n",
    "    sheet_name='Tutkimusraportti',\n",
    ").drop(\n",
    "    columns=[\n",
    "        'Syntymäaika',\n",
    "        'Ryhmätagi',\n",
    "        'Ruokapäiväkirjaryhmä',\n",
    "        'Ruokapäiväkirjan nimi',\n",
    "    ]\n",
    ")\n",
    "\n",
    "food_intake_records.to_csv(\n",
    "    '../data/main/food_intake_records.csv',\n",
    "    index=False\n",
    ")"
   ]
  },
  {
   "cell_type": "code",
   "execution_count": null,
   "id": "48c478f4",
   "metadata": {},
   "outputs": [],
   "source": [
    "import shutil\n",
    "shutil.copy2('../data/RAW/families.csv', '../data/main/')"
   ]
  }
 ],
 "metadata": {
  "kernelspec": {
   "display_name": "Python 3 (ipykernel)",
   "language": "python",
   "name": "python3"
  },
  "language_info": {
   "codemirror_mode": {
    "name": "ipython",
    "version": 3
   },
   "file_extension": ".py",
   "mimetype": "text/x-python",
   "name": "python",
   "nbconvert_exporter": "python",
   "pygments_lexer": "ipython3",
   "version": "3.9.5"
  }
 },
 "nbformat": 4,
 "nbformat_minor": 5
}
