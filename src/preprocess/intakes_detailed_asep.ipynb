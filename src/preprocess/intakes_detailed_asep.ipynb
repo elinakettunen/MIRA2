{
 "cells": [
  {
   "cell_type": "code",
   "execution_count": null,
   "id": "5994b7ca",
   "metadata": {},
   "outputs": [],
   "source": [
    "import pandas as pd\n",
    "\n",
    "from pathlib import Path\n",
    "\n",
    "DATA_PATH = '../../data'\n",
    "Path(DATA_PATH+'/main').mkdir(parents=True, exist_ok=True)"
   ]
  },
  {
   "cell_type": "markdown",
   "id": "41daf3ea",
   "metadata": {},
   "source": [
    "# Food intake records\n",
    "\n",
    "Reading file output from AromiDiet, and processing for later analysis."
   ]
  },
  {
   "cell_type": "code",
   "execution_count": null,
   "id": "8c8234a7",
   "metadata": {},
   "outputs": [],
   "source": [
    "#full list of food intakes\n",
    "#exported from Aromi with options \"Tuotteet ja raaka-aineet\" and \"Fineli ravintoaineet\"\n",
    "aromi = pd.read_excel(\n",
    "    DATA_PATH+'/RAW/aromi_product_ingredient.xlsx', \n",
    "    sheet_name='Tutkimusraportti',\n",
    ").drop(\n",
    "    columns=[\n",
    "        'Syntymäaika',\n",
    "        'Ryhmätagi',\n",
    "        'Ruokapäiväkirjaryhmä',\n",
    "        'Ruokapäiväkirjan nimi',\n",
    "    ]\n",
    ")\n",
    "\n",
    "aromi['timestamp'] = pd.to_datetime (\n",
    "    aromi.Ruokailuaika\n",
    ")\n",
    "aromi.drop(columns=['Ruokailuaika'], inplace=True)\n",
    "\n",
    "aromi['food_code'] = aromi['Tuotetunnus'].fillna(aromi['Reseptin/tuotteen tunnus'])"
   ]
  },
  {
   "cell_type": "markdown",
   "id": "5c0b4a79",
   "metadata": {},
   "source": [
    "## Animal Source Energy Proportion"
   ]
  },
  {
   "cell_type": "code",
   "execution_count": null,
   "id": "10861eeb",
   "metadata": {},
   "outputs": [],
   "source": [
    "#manually created list of animal proportion in food items\n",
    "fap = pd.read_excel(\n",
    "    DATA_PATH+'/public/food_animal_proportion.xlsx', \n",
    "    sheet_name='manual_entry',\n",
    "    usecols=('food_code','food_animal_proportion')\n",
    ")\n",
    "\n",
    "food_records = aromi.merge(\n",
    "    fap, \n",
    "    left_on='food_code', \n",
    "    right_on='food_code', \n",
    "    how='left'\n",
    ").copy() #getting rid of fragmentation warning\n",
    "\n",
    "food_records['ase'] = food_records.ENERC * food_records.food_animal_proportion\n",
    "len(food_records.index)"
   ]
  },
  {
   "cell_type": "markdown",
   "id": "8c731c54",
   "metadata": {},
   "source": [
    "### Data validation\n",
    "\n",
    "Printing out sanity-check tables to identify missing, or potentially erroneus data:\n",
    "- food records where energy data is empty and not zero\n",
    "- food records for which no animal source proportion is found\n",
    "- animal source foods or ingredients recorded for self-reported vegans"
   ]
  },
  {
   "cell_type": "code",
   "execution_count": null,
   "id": "dc95bcb8",
   "metadata": {},
   "outputs": [],
   "source": [
    "#food records where energy is empty, not zero\n",
    "food_records[\n",
    "    food_records.ENERC.isna()\n",
    "].groupby(['food_code','Reseptin/tuotteen nimi'])[['Tunnus']].count()"
   ]
  },
  {
   "cell_type": "code",
   "execution_count": null,
   "id": "c713d249",
   "metadata": {},
   "outputs": [],
   "source": [
    "#food records where food_animal_proportion is empty, not zero\n",
    "food_records[\n",
    "    food_records.food_animal_proportion.isna()\n",
    "].groupby(['food_code','food_code','Reseptin/tuotteen nimi'])[['Tunnus']].count()"
   ]
  },
  {
   "cell_type": "code",
   "execution_count": null,
   "id": "f420d683",
   "metadata": {},
   "outputs": [],
   "source": [
    "#reading reported diet from participant master\n",
    "diet_reported = pd.read_excel(\n",
    "    DATA_PATH+'/main/participants_master.xlsx',\n",
    "    usecols=['id','diet_group']\n",
    ")\n",
    "#selecting rows where reported diet is vegan but food appears to contain animal ingredients\n",
    "df = food_records[\n",
    "    ['Tunnus','Tuotetunnus','Reseptin/tuotteen tunnus','Reseptin/tuotteen nimi','ase']\n",
    "].merge(\n",
    "    diet_reported,\n",
    "    left_on='Tunnus',\n",
    "    right_on='id',\n",
    "    how='left'\n",
    ")\n",
    "\n",
    "df = df[\n",
    "    (df.diet_group=='vegan') & (df.ase != 0)\n",
    "]\n",
    "df.to_excel(\n",
    "    '../../out/vegan_animal_consumption.xlsx'\n",
    ")\n",
    "df"
   ]
  },
  {
   "cell_type": "markdown",
   "id": "983bd438",
   "metadata": {},
   "source": [
    "### Aggregating intakes per person"
   ]
  },
  {
   "cell_type": "code",
   "execution_count": null,
   "id": "fdde3e2b",
   "metadata": {},
   "outputs": [],
   "source": [
    "#dropping rows where animal source energy value is missing\n",
    "#the above two check show which codes these are and whether it is because of\n",
    "# - missing energy data, or\n",
    "# - missing animal proportion data\n",
    "intakes = food_records.dropna(subset=['ase'])"
   ]
  },
  {
   "cell_type": "code",
   "execution_count": null,
   "id": "0b4b61a1",
   "metadata": {},
   "outputs": [],
   "source": [
    "intakes_per_person = intakes.groupby(\n",
    "    ['Tunnus']\n",
    ").sum(\n",
    "    numeric_only=True\n",
    ").drop(\n",
    "    columns=[\n",
    "        'Kulutettu määrä',\n",
    "        'Käyttömäärä',\n",
    "        'food_animal_proportion'\n",
    "    ]\n",
    ")\n",
    "\n",
    "intakes_per_person['asep'] = intakes_per_person.ase / intakes_per_person.ENERC\n",
    "len(intakes_per_person)"
   ]
  },
  {
   "cell_type": "markdown",
   "id": "2faf2160",
   "metadata": {},
   "source": [
    "## Food record time indicators"
   ]
  },
  {
   "cell_type": "code",
   "execution_count": null,
   "id": "96a650ab",
   "metadata": {},
   "outputs": [],
   "source": [
    "df = food_records[['Tunnus','timestamp']].copy()\n",
    "df['date'] = df.timestamp.dt.date\n",
    "\n",
    "fr_dates = df.groupby('Tunnus').agg({'timestamp': ['min', 'max'], 'date': 'nunique'})\n",
    "fr_dates.columns = ('fr_start','fr_end','fr_days')\n",
    "#fr_dates['fr_duration'] = fr_dates.fr_end - fr_dates.fr_start\n",
    "\n",
    "intakes_per_person = intakes_per_person.merge(\n",
    "    fr_dates,\n",
    "    left_index=True,\n",
    "    right_index=True,\n",
    ")\n",
    "len(intakes_per_person)"
   ]
  },
  {
   "cell_type": "markdown",
   "id": "4771d4d4",
   "metadata": {},
   "source": [
    "## Normalising intake metrics"
   ]
  },
  {
   "cell_type": "code",
   "execution_count": null,
   "id": "786cb9d0",
   "metadata": {},
   "outputs": [],
   "source": [
    "#nutrients are reported as total sums, they need to be expressed as daily intakes\n",
    "\n",
    "#we are divinding the total intake in the food records by the number of food record days\n",
    "micro_nutrients = [\n",
    "    'VITC',\n",
    "    'F20D5N3',\n",
    "    'F22D6N3',\n",
    "    'FE',\n",
    "    'FOL',\n",
    "    'CA',\n",
    "    'F18D2CN6',\n",
    "    'F18D3N3'\n",
    "]\n",
    "\n",
    "micro_means = pd.DataFrame()\n",
    "\n",
    "for k in micro_nutrients:\n",
    "    micro_means[f'{k}_daily_mean'] = (intakes_per_person[k] / intakes_per_person.fr_days)"
   ]
  },
  {
   "cell_type": "code",
   "execution_count": null,
   "id": "0bba6cfc",
   "metadata": {},
   "outputs": [],
   "source": [
    "#energy densities of macronutrients (kJ per 1 g of macronutrient)\n",
    "\n",
    "e_densities = {\n",
    "    'FAT': 37,\n",
    "    'FAPU': 37,\n",
    "    'FASAT': 37,\n",
    "    'CHOAVL': 17,\n",
    "    'PROT': 17,\n",
    "    'FIBC': 8,\n",
    "}\n",
    "\n",
    "e_proportions = pd.DataFrame()\n",
    "\n",
    "for k,v in e_densities.items():\n",
    "    # add a column for the total energy from macro nutrient k\n",
    "    # intakes_per_person[column] contanins intake in grams, v is energy density in kJ/g, result is total energy intake\n",
    "    e_proportions[f'e-{k}'] = intakes_per_person[k] * v\n",
    "    # calculcate energy proportion of k\n",
    "    e_proportions[f'ep-{k}'] = e_proportions[f'e-{k}'] / intakes_per_person.ENERC"
   ]
  },
  {
   "cell_type": "code",
   "execution_count": null,
   "id": "51d4f535",
   "metadata": {},
   "outputs": [],
   "source": [
    "#CHOLE as mg/MJ\n",
    "CHOLE_per_e = (\n",
    "    intakes_per_person.CHOLE / (intakes_per_person.ENERC / 1000)\n",
    ").to_frame(\n",
    "        name='CHOLE_mg_per_MJ'\n",
    ") #mg/MJ"
   ]
  },
  {
   "cell_type": "code",
   "execution_count": null,
   "id": "52e028d2",
   "metadata": {},
   "outputs": [],
   "source": [
    "FIBC_per_e = (\n",
    "    intakes_per_person.FIBC / (intakes_per_person.ENERC / 1000)\n",
    ").to_frame(\n",
    "        name='FIBC_g_per_MJ'\n",
    ") #g/MJ"
   ]
  },
  {
   "cell_type": "code",
   "execution_count": null,
   "id": "e0800717",
   "metadata": {},
   "outputs": [],
   "source": [
    "intakes_per_person = pd.concat(\n",
    "    [\n",
    "        intakes_per_person,\n",
    "        micro_means,\n",
    "        e_proportions,\n",
    "        CHOLE_per_e,\n",
    "        FIBC_per_e\n",
    "    ],\n",
    "    axis=1\n",
    ")"
   ]
  },
  {
   "cell_type": "markdown",
   "id": "1a47b76b",
   "metadata": {},
   "source": [
    "## Exporting to excel file"
   ]
  },
  {
   "cell_type": "code",
   "execution_count": null,
   "id": "2d6a0b9e",
   "metadata": {},
   "outputs": [],
   "source": [
    "intakes_per_person.index.names = ['id']\n",
    "\n",
    "intakes_per_person.to_excel(\n",
    "    DATA_PATH+'/main/intakes_detailed_with_asep.xlsx'\n",
    ")"
   ]
  }
 ],
 "metadata": {
  "kernelspec": {
   "display_name": "Python 3 (ipykernel)",
   "language": "python",
   "name": "python3"
  },
  "language_info": {
   "codemirror_mode": {
    "name": "ipython",
    "version": 3
   },
   "file_extension": ".py",
   "mimetype": "text/x-python",
   "name": "python",
   "nbconvert_exporter": "python",
   "pygments_lexer": "ipython3",
   "version": "3.9.12"
  }
 },
 "nbformat": 4,
 "nbformat_minor": 5
}
