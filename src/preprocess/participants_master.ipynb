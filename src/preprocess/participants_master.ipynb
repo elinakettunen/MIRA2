{
 "cells": [
  {
   "cell_type": "markdown",
   "id": "29ab257e",
   "metadata": {},
   "source": [
    "# Data Preprocessing\n",
    "\n",
    "This python notebook contains code needed to extract data for analysis from several source files containing personally identifiable information (PII). The outputs are data files in `data/main` that contain only data values for analysis and participant IDs, but no PII."
   ]
  },
  {
   "cell_type": "code",
   "execution_count": null,
   "id": "edf16a79",
   "metadata": {},
   "outputs": [],
   "source": [
    "import pandas as pd"
   ]
  },
  {
   "cell_type": "code",
   "execution_count": null,
   "id": "55495f81",
   "metadata": {},
   "outputs": [],
   "source": [
    "from pathlib import Path\n",
    "\n",
    "DATA_PATH = '../../data'\n",
    "Path(DATA_PATH+'/main').mkdir(parents=True, exist_ok=True)"
   ]
  },
  {
   "cell_type": "markdown",
   "id": "bfbf506b",
   "metadata": {},
   "source": [
    "# Signups and informed consent\n",
    "\n",
    "We have one manually maintained spreadsheet for participant contact information."
   ]
  },
  {
   "cell_type": "code",
   "execution_count": null,
   "id": "349801ae",
   "metadata": {},
   "outputs": [],
   "source": [
    "def clean_id_string(series):\n",
    "    return series.str.upper().str.strip()"
   ]
  },
  {
   "cell_type": "code",
   "execution_count": null,
   "id": "a1c0186d",
   "metadata": {},
   "outputs": [],
   "source": [
    "import mysecrets \n",
    "\n",
    "import io\n",
    "import msoffcrypto\n",
    "\n",
    "decrypted_workbook = io.BytesIO()\n",
    "with open(DATA_PATH+'/RAW/consent_protected.xlsx', 'rb') as file:\n",
    "    office_file = msoffcrypto.OfficeFile(file)\n",
    "    office_file.load_key(password=mysecrets.excel_pw)\n",
    "    office_file.decrypt(decrypted_workbook)\n",
    "\n",
    "consent = pd.read_excel(\n",
    "    decrypted_workbook,\n",
    "    sheet_name='consent',\n",
    "    usecols=[\n",
    "        'id',\n",
    "        'id_family',\n",
    "        'diet_reported',\n",
    "        'daycare',\n",
    "        'daycare_group',\n",
    "        'daycare_municipal',\n",
    "        'discontinued',\n",
    "        'consent_date',\n",
    "        'daycare_municipal',\n",
    "        'dob'\n",
    "    ]\n",
    ")\n",
    "consent.id = clean_id_string(consent.id)\n",
    "consent.id_family = clean_id_string(consent.id_family)\n",
    "\n",
    "\n",
    "reserch_steps = pd.read_excel(\n",
    "    decrypted_workbook,\n",
    "    sheet_name='reserch_steps',\n",
    "    usecols=[\n",
    "        'id',\n",
    "        'date_blood',\n",
    "        'urine_sample',\n",
    "        'fecal_sample',\n",
    "    ]\n",
    ")\n",
    "reserch_steps.id = clean_id_string(reserch_steps.id)"
   ]
  },
  {
   "cell_type": "markdown",
   "id": "2f273dbf",
   "metadata": {},
   "source": [
    "Generating pseudonymzation id's for daycare centers and groups within.\n",
    "\n",
    "Using an alphabetized list of names to keep generated id mappings fairly stable. They will only change if new inputs are made manually to the source file, which is not expected.\n",
    "\n",
    "Id stability should not be necessary, though. Analyses using the generated master only need these for grouping. They should not depend on ids being the same in subsequent version of the file.\n",
    "\n",
    "Daycare centers have unique names. Groups are made globally unique by concatenating center and group name."
   ]
  },
  {
   "cell_type": "code",
   "execution_count": null,
   "id": "de7fedc0",
   "metadata": {},
   "outputs": [],
   "source": [
    "keys = sorted(consent.daycare.dropna().unique())\n",
    "\n",
    "dc_id_map = dict(zip(keys,range(len(keys))))\n",
    "\n",
    "consent['dc_id'] = consent.daycare.map(dc_id_map)"
   ]
  },
  {
   "cell_type": "code",
   "execution_count": null,
   "id": "09e10a89",
   "metadata": {},
   "outputs": [],
   "source": [
    "dc_dcg = consent.daycare + consent.daycare_group\n",
    "\n",
    "keys = sorted(dc_dcg.dropna().unique())\n",
    "\n",
    "dc_dcg_id_map = dict(zip(keys,range(len(keys))))\n",
    "\n",
    "consent['dc_group_id'] = dc_dcg.map(dc_dcg_id_map)"
   ]
  },
  {
   "cell_type": "code",
   "execution_count": null,
   "id": "ed529496",
   "metadata": {},
   "outputs": [],
   "source": [
    "#converting to bool column\n",
    "consent.daycare_municipal = consent.daycare_municipal==1"
   ]
  },
  {
   "cell_type": "code",
   "execution_count": null,
   "id": "52e94d37",
   "metadata": {},
   "outputs": [],
   "source": [
    "#exporting id mapping for later verification\n",
    "\n",
    "with pd.ExcelWriter(DATA_PATH+'/RAW/daycare_id_mapping.xlsx') as writer:\n",
    "    pd.DataFrame.from_dict(\n",
    "        dc_id_map,\n",
    "        orient='index'\n",
    "    ).to_excel(\n",
    "        writer, \n",
    "        sheet_name='dc_id'\n",
    "    )\n",
    "    \n",
    "    pd.DataFrame.from_dict(\n",
    "        dc_dcg_id_map,\n",
    "        orient='index'\n",
    "    ).to_excel(\n",
    "        writer, \n",
    "        sheet_name='dc_group_id'\n",
    "    )"
   ]
  },
  {
   "cell_type": "markdown",
   "id": "484e7651",
   "metadata": {},
   "source": [
    "# Redcap questionnaire\n",
    "\n",
    "Participants filled in background questionnaires in RedCAP, one for each child participant and one for caregivers participating in food records and biometric sampling."
   ]
  },
  {
   "cell_type": "markdown",
   "id": "68bccb3a",
   "metadata": {},
   "source": [
    "## Children"
   ]
  },
  {
   "cell_type": "code",
   "execution_count": null,
   "id": "a577638d",
   "metadata": {},
   "outputs": [],
   "source": [
    "#using redcap record_id as pandas index\n",
    "rc_c = pd.read_csv(\n",
    "    DATA_PATH+'/RAW/redcap/child.csv',\n",
    "    index_col=0\n",
    ")\n",
    "rc_c.id_child = clean_id_string(rc_c.id_child)\n",
    "rc_c.id_family = clean_id_string(rc_c.id_family)"
   ]
  },
  {
   "cell_type": "code",
   "execution_count": null,
   "id": "92f1cdc0",
   "metadata": {},
   "outputs": [],
   "source": [
    "s = rc_c.mira2_lapsen_taustatieto_ja_ruoankyttkysely_timestamp\n",
    "rc_c['date_q'] = pd.to_datetime(s.mask(s == '[not completed]'))"
   ]
  },
  {
   "cell_type": "code",
   "execution_count": null,
   "id": "2294347e",
   "metadata": {},
   "outputs": [],
   "source": [
    "#helper function to update value of given column on row indexed by redcap record_id\n",
    "def set_col_for_record(record_id, col, val):\n",
    "    \n",
    "    #at points to a single cell by index and col name\n",
    "    old_val = rc_c.at[record_id,col]\n",
    "    idf = rc_c.at[record_id,'id_family']\n",
    "    idc = rc_c.at[record_id,'id_child']\n",
    "    \n",
    "    rc_c.at[record_id,col] = val\n",
    "\n",
    "    print(f'{record_id}, {idf}, {idc}, {col}: {old_val} --> {val}')"
   ]
  },
  {
   "cell_type": "code",
   "execution_count": null,
   "id": "e5b39ad5",
   "metadata": {},
   "outputs": [],
   "source": [
    "# M3339 shows as not completed in form data, but data is valid and input date confirmed directly from participant\n",
    "\n",
    "set_col_for_record(\n",
    "    70,\n",
    "    'date_q',\n",
    "    '2022-06-21'\n",
    ")\n"
   ]
  },
  {
   "cell_type": "code",
   "execution_count": null,
   "id": "c07df435",
   "metadata": {},
   "outputs": [],
   "source": [
    "#dropping incomplete answers\n",
    "rc_c = rc_c.dropna(subset=['date_q'])"
   ]
  },
  {
   "cell_type": "code",
   "execution_count": null,
   "id": "03bb0cd3",
   "metadata": {},
   "outputs": [],
   "source": [
    "#fixing known input errors\n",
    "\n",
    "#capitalizing all ids\n",
    "rc_c.id_family = rc_c.id_family.str.capitalize()\n",
    "rc_c.id_child = rc_c.id_child.str.capitalize()"
   ]
  },
  {
   "cell_type": "code",
   "execution_count": null,
   "id": "2e3bcc8d",
   "metadata": {},
   "outputs": [],
   "source": [
    "# helper functions to define valid IDs and returning invalid rows\n",
    "\n",
    "def is_valid_id(s):\n",
    "    return isinstance(s,str) and len(s)==5 and s[-4:].isdigit()\n",
    "\n",
    "def is_valid_id_family(s):\n",
    "    return is_valid_id(s) and s.startswith('P')\n",
    "\n",
    "def is_valid_id_child(s):\n",
    "    return is_valid_id(s) and s.startswith('M')\n",
    "\n",
    "def erroneous_ids():\n",
    "    valid_id_family = rc_c.id_family.apply(is_valid_id_family)\n",
    "    valid_id_child = rc_c.id_child.apply(is_valid_id_child)\n",
    "    \n",
    "    return rc_c.loc[\n",
    "        rc_c.date_q.notna() & (\n",
    "            ~valid_id_family | ~valid_id_child\n",
    "        )\n",
    "    ][['id_family','id_child']]\n",
    "    "
   ]
  },
  {
   "cell_type": "code",
   "execution_count": null,
   "id": "dbb8b7a5",
   "metadata": {},
   "outputs": [],
   "source": [
    "erroneous_ids()"
   ]
  },
  {
   "cell_type": "code",
   "execution_count": null,
   "id": "7c7f5a03",
   "metadata": {},
   "outputs": [],
   "source": [
    "#P was missing from family_id for M3309\n",
    "set_col_for_record(\n",
    "    65,\n",
    "    'id_family',\n",
    "    'P1001'\n",
    ")"
   ]
  },
  {
   "cell_type": "code",
   "execution_count": null,
   "id": "587f3626",
   "metadata": {},
   "outputs": [],
   "source": [
    "#P was missing from family_id for M3310\n",
    "set_col_for_record(\n",
    "    66,\n",
    "    'id_family',\n",
    "    'P1001'\n",
    ")"
   ]
  },
  {
   "cell_type": "code",
   "execution_count": null,
   "id": "cb0ff3d1",
   "metadata": {},
   "outputs": [],
   "source": [
    "#P was replaced with zero in family_id for M3313\n",
    "set_col_for_record(\n",
    "    57,\n",
    "    'id_family',\n",
    "    'P1002'\n",
    ")"
   ]
  },
  {
   "cell_type": "code",
   "execution_count": null,
   "id": "826069dc",
   "metadata": {},
   "outputs": [],
   "source": [
    "#family_id incorrect M3400\n",
    "set_col_for_record(\n",
    "    78,\n",
    "    'id_family',\n",
    "    'P1030'\n",
    ")"
   ]
  },
  {
   "cell_type": "code",
   "execution_count": null,
   "id": "a6fa3475",
   "metadata": {},
   "outputs": [],
   "source": [
    "#family_id had i for 1 M3416\n",
    "set_col_for_record(\n",
    "    13,\n",
    "    'id_family',\n",
    "    'P1035'\n",
    ")"
   ]
  },
  {
   "cell_type": "code",
   "execution_count": null,
   "id": "73c0031d",
   "metadata": {},
   "outputs": [],
   "source": [
    "#family_id was M3495\n",
    "set_col_for_record(\n",
    "    37,\n",
    "    'id_family',\n",
    "    'P1060'\n",
    ")"
   ]
  },
  {
   "cell_type": "code",
   "execution_count": null,
   "id": "ebdcf740",
   "metadata": {},
   "outputs": [],
   "source": [
    "#family_id was M3501\n",
    "set_col_for_record(\n",
    "    11,\n",
    "    'id_family',\n",
    "    'P1062'\n",
    ")"
   ]
  },
  {
   "cell_type": "code",
   "execution_count": null,
   "id": "44f05f57",
   "metadata": {},
   "outputs": [],
   "source": [
    "#swapping values where family- and child ids are swapped\n",
    "m = rc_c.id_family.str.startswith('M') & rc_c.id_child.str.startswith('P')\n",
    "\n",
    "rc_c.loc[m, ['id_family', 'id_child']] = (\n",
    "    rc_c.loc[m, ['id_child', 'id_family']].values)"
   ]
  },
  {
   "cell_type": "code",
   "execution_count": null,
   "id": "67be0939",
   "metadata": {},
   "outputs": [],
   "source": [
    "erroneous_ids()"
   ]
  },
  {
   "cell_type": "markdown",
   "id": "674ad414",
   "metadata": {},
   "source": [
    "# Diet classification of participants\n",
    "\n",
    "Study participants have filled in RedCap survey forms that differ for children and their caretakers. On both forms there are multiple choice questions to more clearly specify the diet participants adhere to.\n",
    "\n",
    "This code contains all interpretations of survey answers to group participants to diet categories.\n",
    "\n",
    "\n",
    "## Form for Children\n",
    "Same row of check boxes was presented for both home and daycare diets:\n",
    "\n",
    "\n",
    "- Ei erityisruokavaliota tai välttämisruokavaliota\n",
    "- Laktoositon tai vähälaktoosinen ruokavalio\n",
    "- Gluteeniton ruokavalio (vältetään vehnää,ruista ja ohraa)\n",
    "- Ruokavalio, joka ei sisällä punaista lihaa\n",
    "- Vegaaninen ruokavalio (ei sisällä mitään eläinperäisiä tuotteita)\n",
    "- Kasvisruokavalio, joka sisältää yhtä tai useampaa seuraavista eläinkunnan tuotteista: kalaa, kananmunaa ja/tai maitotuotteita\n",
    "- Ruokarajoituksia uskonnollisista syistä\n",
    "- Muu ruokavalio\n",
    "\n",
    "The code below encodes selections as `1`s and unchecked boxes as `0`s. For each form, we get an eight-character string of `0`s and `1`s. All combinations appearing in answers are mapped to a diet category according to the research group's interpretation."
   ]
  },
  {
   "cell_type": "code",
   "execution_count": null,
   "id": "14408f9c",
   "metadata": {},
   "outputs": [],
   "source": [
    "diet_id = {\n",
    "    '00001000': 0, #vegan\n",
    "    '00101000': 1, #vegan, no gluten\n",
    "    '00000100': 2, #vegetarian\n",
    "    '00001100': 3, #contradictory answer: vegan and vegetarian\n",
    "    '10000100': 4, #contradictory answer: no restrictions and vegetarian\n",
    "    '01000100': 5, #lactose free vegetarian\n",
    "    '00010100': 6, #vegetarian, no red meat\n",
    "    '01000000': 7, #lactose free\n",
    "    '10000001': 8, #no restrictions, other\n",
    "    '10000000': 9, #no restrictions\n",
    "    '00000001': 10, #other\n",
    "    '00100000': 11, #gluten free\n",
    "}\n",
    "diet_desc = {    \n",
    "    0: 'vegan',\n",
    "    1: 'vegan, gluten free',\n",
    "    2: 'vegetarian',\n",
    "    3: 'vegetarian', \n",
    "    4: 'vegetarian',\n",
    "    5: 'vegetarian, lactose free', \n",
    "    6: 'vegetarian',\n",
    "    7: 'mixed diet, lactose free',\n",
    "    8: 'mixed diet, other',\n",
    "    9: 'mixed diet',\n",
    "    10: 'other',\n",
    "    11: 'mixed diet, gluten free',\n",
    "}\n",
    "diet_group = {    \n",
    "    0: 'vegan',\n",
    "    1: 'vegan',\n",
    "    2: 'vegetarian',\n",
    "    3: 'vegetarian', \n",
    "    4: 'vegetarian',\n",
    "    5: 'vegetarian', \n",
    "    6: 'vegetarian',\n",
    "    7: 'mixed diet',\n",
    "    8: 'mixed diet',\n",
    "    9: 'mixed diet',\n",
    "    10: 'mixed diet',\n",
    "    11: 'mixed diet',\n",
    "}"
   ]
  },
  {
   "cell_type": "code",
   "execution_count": null,
   "id": "8ed9f391",
   "metadata": {},
   "outputs": [],
   "source": [
    "diet_dc_cols = [f'diet_dc___{i}' for i in range(1,9)]\n",
    "rc_c['diet_dc_ticks'] = rc_c[diet_dc_cols].astype(str).apply(''.join, axis=1)\n",
    "\n",
    "diet_home_cols = [f'diet_home___{i}' for i in range(1,9)]\n",
    "rc_c['diet_home_ticks'] = rc_c[diet_home_cols].astype(str).apply(''.join, axis=1)\n",
    "\n",
    "rc_c['diet_dc_id'] = rc_c.diet_dc_ticks.map(diet_id)\n",
    "rc_c['diet_dc_desc'] = rc_c.diet_dc_id.map(diet_desc)\n",
    "\n",
    "rc_c['diet_home_id'] = rc_c.diet_home_ticks.map(diet_id)\n",
    "rc_c['diet_home_desc'] = rc_c.diet_home_id.map(diet_desc)"
   ]
  },
  {
   "cell_type": "code",
   "execution_count": null,
   "id": "8772f078",
   "metadata": {},
   "outputs": [],
   "source": [
    "#if an option is selected for either home or daycare, we consider it selected\n",
    "\n",
    "#combining two strings of 0/1 selections to one where if either one has 1 in a position, output is 1, else 0\n",
    "def string_bitwise_or(s1,s2):\n",
    "    l = len(s1)\n",
    "    assert l == len(s2)\n",
    "    return bin(int(s1, 2) | int(s2, 2))[2:].zfill(l)\n",
    "\n",
    "def combine_diets(row):\n",
    "    return string_bitwise_or(row.diet_dc_ticks, row.diet_home_ticks)\n",
    "\n",
    "rc_c['diet_group'] = rc_c.apply(combine_diets, axis=1).map(diet_id).map(diet_group)"
   ]
  },
  {
   "cell_type": "markdown",
   "id": "7bd60d45",
   "metadata": {},
   "source": [
    "## Caregivers"
   ]
  },
  {
   "cell_type": "code",
   "execution_count": null,
   "id": "4dbb621a",
   "metadata": {},
   "outputs": [],
   "source": [
    "#reading adults redcap questionnaire\n",
    "rc_cg = pd.read_csv(\n",
    "    DATA_PATH+'/RAW/redcap/caregiver.csv',\n",
    "    index_col=0\n",
    ")\n",
    "# converting strings to timestamps after filtering out not completed\n",
    "s = rc_cg.mira2_huoltajan_taustatieto_ja_ruoankyttkysely_timestamp\n",
    "rc_cg['date_q'] = pd.to_datetime(s.mask(s == '[not completed]'))\n",
    "\n",
    "#removing rows that do not have completed timestamps\n",
    "rc_cg = rc_cg.dropna(subset=['date_q'])"
   ]
  },
  {
   "cell_type": "code",
   "execution_count": null,
   "id": "bfb0e097",
   "metadata": {},
   "outputs": [],
   "source": [
    "#function to normalise ID inputs\n",
    "def fix_cg_id(s):\n",
    "    s = s.upper()\n",
    "    if not s.startswith('M'):\n",
    "        s = 'M' + s\n",
    "    return s\n",
    "\n",
    "#apply fix to whole columns\n",
    "rc_cg.id_cg = rc_cg.id_cg.apply(fix_cg_id)"
   ]
  },
  {
   "cell_type": "markdown",
   "id": "6fd1bc3f",
   "metadata": {},
   "source": [
    "Fixing known input errors in children's questionnaire"
   ]
  },
  {
   "cell_type": "code",
   "execution_count": null,
   "id": "29550e04",
   "metadata": {},
   "outputs": [],
   "source": [
    "#fixing known input errors, in C\n",
    "\n",
    "#mother's ID entered into the father's column, emptying it\n",
    "rc_c.loc[rc_c['id_biological_father'] == 'M3586', 'id_biological_father'] = None \n",
    "\n",
    "#did not remember their ID, adding it after checking\n",
    "rc_c.loc[rc_c['id_biological_father'] == 'En muista', 'id_biological_father'] = 'M3599'\n",
    "\n",
    "#mother participated, but did not enter ID because they missed blood labs, adding their ID\n",
    "rc_c.at[68,'id_biological_mother'] = 'M3639' "
   ]
  },
  {
   "cell_type": "markdown",
   "id": "e7cb1e6a",
   "metadata": {},
   "source": [
    "Reading adults diet from the children's questionnaire, from several different columns.\n",
    "\n",
    "For each of biological mother, biological father, caregiver, we find their participant ID and diet multiple choice answers in a different set of columns."
   ]
  },
  {
   "cell_type": "code",
   "execution_count": null,
   "id": "8078ec35",
   "metadata": {},
   "outputs": [],
   "source": [
    "#selecting groups of columns from rc_c, childrens questionnaire, and making them uniform\n",
    "\n",
    "# generating a list of strings to represent column names for diet multiple choice answers\n",
    "diet_cols = [f'diet_{i}' for i in range(1,9)]\n",
    "\n",
    "def slice_and_rename(cols):\n",
    "    df = rc_c[cols]\n",
    "    df.columns = ['id_cg'] + diet_cols\n",
    "    return df\n",
    "\n",
    "#selecting three groups of columns into dataframes and concatenating row-wise\n",
    "diet_cg = pd.concat(\n",
    "    [\n",
    "        slice_and_rename(['id_biological_mother'] + [f'diet_biol_m___{i}' for i in range(1,9)]),\n",
    "        slice_and_rename(['id_biological_father'] + [f'diet_biol_f___{i}' for i in range(1,9)]),\n",
    "        slice_and_rename(['id_cg'] + [f'cg_diet___{i}' for i in range(1,9)]),\n",
    "    ],\n",
    "    axis = 0\n",
    ").dropna()\n",
    "\n",
    "diet_cg.id_cg = diet_cg.id_cg.apply(fix_cg_id)\n",
    "\n",
    "# Same caregiver ID can appear repeatedly when more than one of their children participate\n",
    "# If an answer was selected in any instance of answers, we consider it\n",
    "diet_cg = diet_cg.groupby('id_cg').max() #columns contain 0 or 1, max() chooses 1 if selected\n",
    "\n",
    "diet_cg['diet_ticks'] = diet_cg[diet_cols].astype(str).apply(''.join, axis=1)\n",
    "diet_cg['diet_id'] = diet_cg.diet_ticks.map(diet_id)\n",
    "diet_cg['diet_home'] = diet_cg.diet_id.map(diet_desc)\n",
    "diet_cg['diet_group'] = diet_cg.diet_id.map(diet_group)"
   ]
  },
  {
   "cell_type": "markdown",
   "id": "b58adc7a",
   "metadata": {},
   "source": [
    "# Samples\n",
    "\n",
    "Participants gave fecal and urine samples for lab testing. Age at sample time is calculated for analysis and to hide DoB. Existence of date is used to track which participants gave samples."
   ]
  },
  {
   "cell_type": "code",
   "execution_count": null,
   "id": "58dac75e",
   "metadata": {},
   "outputs": [],
   "source": [
    "f_samples = pd.read_excel(\n",
    "    DATA_PATH+'/RAW/fecal_and_urine_samples.xlsx',\n",
    "    sheet_name='feces',\n",
    "    usecols=[\n",
    "        'id',\n",
    "        'fecal_date',\n",
    "    ]\n",
    ")"
   ]
  },
  {
   "cell_type": "code",
   "execution_count": null,
   "id": "ff53f8f3",
   "metadata": {},
   "outputs": [],
   "source": [
    "u_samples = pd.read_excel(\n",
    "    DATA_PATH+'/RAW/fecal_and_urine_samples.xlsx',\n",
    "    sheet_name='urines',\n",
    "    usecols=[\n",
    "        'id',\n",
    "        'urine_date',\n",
    "    ]\n",
    ")"
   ]
  },
  {
   "cell_type": "code",
   "execution_count": null,
   "id": "492672c4",
   "metadata": {},
   "outputs": [],
   "source": [
    "#time inputs in spreadsheet are all kinds of off\n",
    "from datetime import datetime, time\n",
    "from math import isnan\n",
    "\n",
    "def clean_time(t):\n",
    "    if isinstance(t, time):\n",
    "        #correct inputs are parsed when reading excel, keeping those\n",
    "        return t\n",
    "    if isinstance(t, float):\n",
    "        #empty cells come in as NaN\n",
    "        if isnan(t):\n",
    "            return None\n",
    "        #short inputs get parsed as float\n",
    "        t = str(t)\n",
    "    if isinstance(t, str):\n",
    "        #remaining problems should be strings\n",
    "        #removing any spaces and replacing . with : \n",
    "        t = t.strip(' .').replace(' ','').replace('.',':')\n",
    "        if t.count(':')<2:\n",
    "            #in some cases seconds are missing, so adding 00\n",
    "            t += ':00'\n",
    "        return datetime.strptime(t, \"%H:%M:%S\").time()\n",
    "    raise Exception(f'Not prepared to process {type(t)}')\n",
    "\n",
    "b_samples = pd.read_excel(\n",
    "    DATA_PATH+'/RAW/blood_samples.xlsx',\n",
    "    sheet_name='blood_sample_collection',\n",
    "    usecols=[\n",
    "        'id',\n",
    "        'blood_collected_time',\n",
    "    ],\n",
    ")\n",
    "\n",
    "b_samples['blood_time_of_day'] = b_samples.blood_collected_time.apply(clean_time)"
   ]
  },
  {
   "cell_type": "markdown",
   "id": "7f469910",
   "metadata": {},
   "source": [
    "# Merging\n",
    "\n",
    "Merging dataframes in participant ID.\n",
    "\n",
    "For privacy, no date columns are written out to master, age at sample times is calculated."
   ]
  },
  {
   "cell_type": "code",
   "execution_count": null,
   "id": "7cc9cd08",
   "metadata": {},
   "outputs": [],
   "source": [
    "#starting from informed consent, using left joins so anything not in there will not be included\n",
    "participants = consent.merge(\n",
    "    reserch_steps,\n",
    "    left_on=['id'],\n",
    "    right_on=['id'],\n",
    "    how='left'\n",
    ")\n",
    "len(participants.index)"
   ]
  },
  {
   "cell_type": "code",
   "execution_count": null,
   "id": "fefa9626",
   "metadata": {},
   "outputs": [],
   "source": [
    "#children's redcap\n",
    "participants = participants.merge(\n",
    "    rc_c,\n",
    "    left_on=['id'],\n",
    "    right_on=['id_child'],\n",
    "    how='left',\n",
    "    suffixes=('_consent', '_redcap')\n",
    ")\n",
    "len(participants.index)"
   ]
  },
  {
   "cell_type": "code",
   "execution_count": null,
   "id": "64594be6",
   "metadata": {},
   "outputs": [],
   "source": [
    "def merge_cols(df,c):\n",
    "    x = f'{c}_x'\n",
    "    y = f'{c}_y'\n",
    "    display(df[[x,y]].dropna())\n",
    "    df[c] = df[x].combine_first(df[y])"
   ]
  },
  {
   "cell_type": "code",
   "execution_count": null,
   "id": "940f4df2",
   "metadata": {},
   "outputs": [],
   "source": [
    "#caregivers redcap\n",
    "participants = participants.merge(\n",
    "    rc_cg,\n",
    "    left_on='id',\n",
    "    right_on='id_cg',\n",
    "    how='left',\n",
    ")\n",
    "\n",
    "\n",
    "#there are columns that appear by same name on both questionnaires but\n",
    "#only appear in one or the other for child or caregiver, combining those here\n",
    "merge_cols(participants,'date_q')\n",
    "merge_cols(participants,'sex')\n",
    "\n",
    "len(participants.index)"
   ]
  },
  {
   "cell_type": "code",
   "execution_count": null,
   "id": "7b3bfe13",
   "metadata": {},
   "outputs": [],
   "source": [
    "#caregivers diet\n",
    "participants = participants.merge(\n",
    "    diet_cg,\n",
    "    left_on='id',\n",
    "    right_index=True,\n",
    "    how='left',\n",
    ")\n",
    "\n",
    "merge_cols(participants,'diet_group')\n",
    "\n",
    "len(participants.index)"
   ]
  },
  {
   "cell_type": "code",
   "execution_count": null,
   "id": "9317e138",
   "metadata": {},
   "outputs": [],
   "source": [
    "participants = participants.merge(\n",
    "    f_samples,\n",
    "    on='id',\n",
    "    how='left',\n",
    ")\n",
    "len(participants.index)"
   ]
  },
  {
   "cell_type": "code",
   "execution_count": null,
   "id": "fc50ab9a",
   "metadata": {},
   "outputs": [],
   "source": [
    "participants = participants.merge(\n",
    "    u_samples,\n",
    "    on='id',\n",
    "    how='left',\n",
    ")\n",
    "len(participants.index)"
   ]
  },
  {
   "cell_type": "code",
   "execution_count": null,
   "id": "b5b421a9",
   "metadata": {},
   "outputs": [],
   "source": [
    "participants = participants.merge(\n",
    "    b_samples,\n",
    "    on='id',\n",
    "    how='left',\n",
    ")\n",
    "len(participants.index)"
   ]
  },
  {
   "cell_type": "code",
   "execution_count": null,
   "id": "9638553e",
   "metadata": {},
   "outputs": [],
   "source": [
    "ages = pd.DataFrame()\n",
    "\n",
    "ages['age_q'] = (participants.date_q.dt.normalize() - participants.dob).dt.days\n",
    "ages['age_informed_consent'] = (participants.consent_date - participants.dob).dt.days\n",
    "ages['age_blood'] = (pd.to_datetime(participants.date_blood, errors='coerce') - participants.dob).dt.days\n",
    "ages['age_feces'] = (participants.fecal_date - participants.dob).dt.days\n",
    "ages['age_urine'] = (participants.urine_date - participants.dob).dt.days\n",
    "\n",
    "participants = pd.concat([participants,ages],axis=1)"
   ]
  },
  {
   "cell_type": "code",
   "execution_count": null,
   "id": "236d3d2d",
   "metadata": {},
   "outputs": [],
   "source": []
  },
  {
   "cell_type": "markdown",
   "id": "3b6dbfd0",
   "metadata": {},
   "source": [
    "## ID Checks"
   ]
  },
  {
   "cell_type": "code",
   "execution_count": null,
   "id": "a1ec8af3",
   "metadata": {},
   "outputs": [],
   "source": [
    "#checking for mismatched family ids\n",
    "participants[participants.id_family_redcap.notna() & (participants.id_family_consent != participants.id_family_redcap)][['id','id_family_consent','id_family_redcap']]"
   ]
  },
  {
   "cell_type": "code",
   "execution_count": null,
   "id": "57446b21",
   "metadata": {},
   "outputs": [],
   "source": [
    "#number of family ids missing in redcap data \n",
    "participants.id_family_redcap.isna().sum()"
   ]
  },
  {
   "cell_type": "code",
   "execution_count": null,
   "id": "1a9d4a3a",
   "metadata": {},
   "outputs": [],
   "source": [
    "#using family_id from consent data\n",
    "participants['id_family'] = participants.id_family_consent"
   ]
  },
  {
   "cell_type": "markdown",
   "id": "27855fae",
   "metadata": {},
   "source": [
    "# Data file outputs\n",
    "\n",
    "## Participants master\n",
    "Combining person-level data to a single table without PII.\n",
    "\n",
    "For dta hygiene, only explicitly selected columns are written out to the master data file on `data/main`."
   ]
  },
  {
   "cell_type": "code",
   "execution_count": null,
   "id": "00fcb1ba",
   "metadata": {},
   "outputs": [],
   "source": [
    "for c in participants.columns: print(c)"
   ]
  },
  {
   "cell_type": "code",
   "execution_count": null,
   "id": "f7528bfe",
   "metadata": {},
   "outputs": [],
   "source": [
    "master_dictionary = {\n",
    "    'id': 'unique identifier of study participant',\n",
    "    'id_family': 'unique identifier participating family',\n",
    "    'age_informed_consent': 'age of participant at time reserch group received informed consent',\n",
    "    'diet_reported': 'diet reported at enrollment',\n",
    "    'daycare_municipal': 'boolean denoting whether daycare center attended is municipally operated',\n",
    "    'discontinued': 'boolean denoting whether participant discontinued the study before completion',\n",
    "    'dc_id': 'unique identifier of daycare center',\n",
    "    'dc_group_id': 'unique identifier of group at daycare center',\n",
    "    'age_blood': 'age of participant at time of blood sampling',\n",
    "    'blood_time_of_day': 'time of day when blood sample was taken',\n",
    "    'age_feces': 'age of participant at time of fecal sampling',\n",
    "    'age_urine': 'age of participant at time of urine sampling',\n",
    "    'sex': 'sex of participant (1=F, 2=M)',\n",
    "    'age_q': 'age of participant at time of completing questionnaire',\n",
    "    'diet_dc_desc': 'description label for diet group at daycare based on questionnaire',\n",
    "    'diet_home_desc': 'description label for diet group at home based on questionnaire',\n",
    "    'diet_group': 'diet grouping the study, based on questionnaire answers'\n",
    "}"
   ]
  },
  {
   "cell_type": "code",
   "execution_count": null,
   "id": "c06ca44c",
   "metadata": {},
   "outputs": [],
   "source": [
    "with pd.ExcelWriter(DATA_PATH+'/main/participants_master.xlsx') as writer:\n",
    "    \n",
    "    #selecting named columns from dataframe participants \n",
    "    participants[master_dictionary.keys()].to_excel(\n",
    "        writer, \n",
    "        sheet_name='participants',\n",
    "        index=False\n",
    "    )\n",
    "    \n",
    "    #turning the dictionary to a dataframe for writing out to excel\n",
    "    pd.DataFrame.from_dict(\n",
    "        master_dictionary,\n",
    "        orient='index',\n",
    "        columns=['description']\n",
    "    ).rename_axis(\n",
    "        'variable'\n",
    "    ).to_excel(\n",
    "        writer, \n",
    "        sheet_name='dictionary',\n",
    "    )"
   ]
  },
  {
   "cell_type": "markdown",
   "id": "2d4bedb2",
   "metadata": {},
   "source": [
    "## Cleaned-up questionnaire data\n",
    "Exporting a pseudonymised, but otherwise unprocessed copy of the questionnaire."
   ]
  },
  {
   "cell_type": "code",
   "execution_count": null,
   "id": "737c082b",
   "metadata": {},
   "outputs": [],
   "source": [
    "rc_c.drop(\n",
    "    columns=[\n",
    "        'birthday',\n",
    "        'birth_date',\n",
    "        'name_cg', \n",
    "        'cg_who', \n",
    "        'neuvolakortti', \n",
    "        'additional_information',\n",
    "        'mira2_lapsen_taustatieto_ja_ruoankyttkysely_timestamp',\n",
    "        'date_q'\n",
    "    ]\n",
    ").to_excel(\n",
    "    DATA_PATH+'/main/redcap_children_clean.xlsx'\n",
    ")"
   ]
  }
 ],
 "metadata": {
  "kernelspec": {
   "display_name": "Python 3 (ipykernel)",
   "language": "python",
   "name": "python3"
  },
  "language_info": {
   "codemirror_mode": {
    "name": "ipython",
    "version": 3
   },
   "file_extension": ".py",
   "mimetype": "text/x-python",
   "name": "python",
   "nbconvert_exporter": "python",
   "pygments_lexer": "ipython3",
   "version": "3.9.12"
  }
 },
 "nbformat": 4,
 "nbformat_minor": 5
}
