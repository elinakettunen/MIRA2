{
 "cells": [
  {
   "cell_type": "markdown",
   "id": "29ab257e",
   "metadata": {},
   "source": [
    "# Data Preprocessing\n",
    "\n",
    "This python notebook contains code needed to extract data for analysis from several source files containing personally identifiable information (PII). The outputs are data files in `data/main` that contain only data values for analysis and participant IDs, but no PII."
   ]
  },
  {
   "cell_type": "code",
   "execution_count": null,
   "id": "edf16a79",
   "metadata": {},
   "outputs": [],
   "source": [
    "import pandas as pd"
   ]
  },
  {
   "cell_type": "code",
   "execution_count": null,
   "id": "55495f81",
   "metadata": {},
   "outputs": [],
   "source": [
    "from pathlib import Path\n",
    "Path(\"../data/main\").mkdir(parents=True, exist_ok=True)"
   ]
  },
  {
   "cell_type": "markdown",
   "id": "bfbf506b",
   "metadata": {},
   "source": [
    "# Signups and informed consent\n",
    "\n",
    "We have one manually maintained spreadsheet for participant contact information."
   ]
  },
  {
   "cell_type": "code",
   "execution_count": null,
   "id": "349801ae",
   "metadata": {},
   "outputs": [],
   "source": [
    "def clean_id_string(series):\n",
    "    return series.str.upper().str.strip()"
   ]
  },
  {
   "cell_type": "code",
   "execution_count": null,
   "id": "a1c0186d",
   "metadata": {},
   "outputs": [],
   "source": [
    "import secrets \n",
    "\n",
    "import io\n",
    "import msoffcrypto\n",
    "\n",
    "decrypted_workbook = io.BytesIO()\n",
    "with open('../data/RAW/consent_protected.xlsx', 'rb') as file:\n",
    "    office_file = msoffcrypto.OfficeFile(file)\n",
    "    office_file.load_key(password=secrets.excel_pw)\n",
    "    office_file.decrypt(decrypted_workbook)\n",
    "\n",
    "consent = pd.read_excel(\n",
    "    decrypted_workbook,\n",
    "    sheet_name='consent',\n",
    "    usecols=[\n",
    "        'id',\n",
    "        'id_family',\n",
    "        'diet_reported',\n",
    "        'daycare',\n",
    "        'daycare_group',\n",
    "        'daycare_municipal',\n",
    "        'discontinued',\n",
    "        'consent_date',\n",
    "        'daycare_municipal',\n",
    "        'dob'\n",
    "    ]\n",
    ")\n",
    "consent.id = clean_id_string(consent.id)\n",
    "consent.id_family = clean_id_string(consent.id_family)\n",
    "\n",
    "\n",
    "reserch_steps = pd.read_excel(\n",
    "    decrypted_workbook,\n",
    "    sheet_name='reserch_steps',\n",
    "    usecols=[\n",
    "        'id',\n",
    "        'date_blood',\n",
    "        'urine_sample',\n",
    "        'fecal_sample',\n",
    "    ]\n",
    ")\n",
    "reserch_steps.id = clean_id_string(reserch_steps.id)"
   ]
  },
  {
   "cell_type": "markdown",
   "id": "2f273dbf",
   "metadata": {},
   "source": [
    "Generating pseudonymzation id's for daycare centers and groups within.\n",
    "\n",
    "Using an alphabetized list of names to keep generated id mappings fairly stable. They will only change if new inputs are made manually to the source file, which is not expected.\n",
    "\n",
    "Id stability should not be necessary, though. Analyses using the generated master only need these for grouping. They should not depend on ids being the same in subsequent version of the file.\n",
    "\n",
    "Daycare centers have unique names. Groups are made globally unique by concatenating center and group name."
   ]
  },
  {
   "cell_type": "code",
   "execution_count": null,
   "id": "de7fedc0",
   "metadata": {},
   "outputs": [],
   "source": [
    "keys = sorted(consent.daycare.dropna().unique())\n",
    "\n",
    "dc_id_map = dict(zip(keys,range(len(keys))))\n",
    "\n",
    "consent['dc_id'] = consent.daycare.map(dc_id_map)"
   ]
  },
  {
   "cell_type": "code",
   "execution_count": null,
   "id": "09e10a89",
   "metadata": {},
   "outputs": [],
   "source": [
    "dc_dcg = consent.daycare + consent.daycare_group\n",
    "\n",
    "keys = sorted(dc_dcg.dropna().unique())\n",
    "\n",
    "dc_dcg_id_map = dict(zip(keys,range(len(keys))))\n",
    "\n",
    "consent['dc_group_id'] = dc_dcg.map(dc_dcg_id_map)"
   ]
  },
  {
   "cell_type": "code",
   "execution_count": null,
   "id": "ed529496",
   "metadata": {},
   "outputs": [],
   "source": [
    "#converting to bool column\n",
    "consent.daycare_municipal = consent.daycare_municipal==1"
   ]
  },
  {
   "cell_type": "code",
   "execution_count": null,
   "id": "52e94d37",
   "metadata": {},
   "outputs": [],
   "source": [
    "#exporting id mapping for later verification\n",
    "\n",
    "with pd.ExcelWriter('../data/RAW/daycare_id_mapping.xlsx') as writer:\n",
    "    pd.DataFrame.from_dict(\n",
    "        dc_id_map,\n",
    "        orient='index'\n",
    "    ).to_excel(\n",
    "        writer, \n",
    "        sheet_name='dc_id'\n",
    "    )\n",
    "    \n",
    "    pd.DataFrame.from_dict(\n",
    "        dc_dcg_id_map,\n",
    "        orient='index'\n",
    "    ).to_excel(\n",
    "        writer, \n",
    "        sheet_name='dc_group_id'\n",
    "    )"
   ]
  },
  {
   "cell_type": "markdown",
   "id": "484e7651",
   "metadata": {},
   "source": [
    "# Redcap questionnaire\n",
    "\n",
    "Participants filled in background questionnaires in RedCAP, one for each child participant and one for caregivers participating in food records and biometric sampling."
   ]
  },
  {
   "cell_type": "markdown",
   "id": "68bccb3a",
   "metadata": {},
   "source": [
    "## Children"
   ]
  },
  {
   "cell_type": "code",
   "execution_count": null,
   "id": "a726491a",
   "metadata": {},
   "outputs": [],
   "source": [
    "#reading only specific fields from redcap data to avoid PII\n",
    "#using redcap record_id as pandas index\n",
    "rc_c = pd.read_csv(\n",
    "    '../data/RAW/redcap/child.csv',\n",
    "    usecols=lambda c: c in ['record_id','id_child','id_family','mira2_lapsen_taustatieto_ja_ruoankyttkysely_timestamp','sex'] or c.startswith('diet_'),\n",
    "    index_col=0\n",
    ")\n",
    "rc_c.id_child = clean_id_string(rc_c.id_child)\n",
    "rc_c.id_family = clean_id_string(rc_c.id_family)\n"
   ]
  },
  {
   "cell_type": "code",
   "execution_count": null,
   "id": "92f1cdc0",
   "metadata": {},
   "outputs": [],
   "source": [
    "s = rc_c.mira2_lapsen_taustatieto_ja_ruoankyttkysely_timestamp\n",
    "rc_c['date_q'] = pd.to_datetime(s.mask(s == '[not completed]'))"
   ]
  },
  {
   "cell_type": "code",
   "execution_count": null,
   "id": "2294347e",
   "metadata": {},
   "outputs": [],
   "source": [
    "#helper function to update value of given column on row indexed by redcap record_id\n",
    "def set_col_for_record(record_id, col, val):\n",
    "    \n",
    "    #at points to a single cell by index and col name\n",
    "    old_val = rc_c.at[record_id,col]\n",
    "    idf = rc_c.at[record_id,'id_family']\n",
    "    idc = rc_c.at[record_id,'id_child']\n",
    "    \n",
    "    rc_c.at[record_id,col] = val\n",
    "\n",
    "    print(f'{record_id}, {idf}, {idc}, {col}: {old_val} --> {val}')"
   ]
  },
  {
   "cell_type": "code",
   "execution_count": null,
   "id": "e5b39ad5",
   "metadata": {},
   "outputs": [],
   "source": [
    "# M3339 shows as not completed in form data, but data is valid and input date confirmed directly from participant\n",
    "\n",
    "set_col_for_record(\n",
    "    70,\n",
    "    'date_q',\n",
    "    '2022-06-21'\n",
    ")\n"
   ]
  },
  {
   "cell_type": "code",
   "execution_count": null,
   "id": "c07df435",
   "metadata": {},
   "outputs": [],
   "source": [
    "#dropping incomplete answers\n",
    "rc_c = rc_c[rc_c.date_q.notna()]"
   ]
  },
  {
   "cell_type": "code",
   "execution_count": null,
   "id": "03bb0cd3",
   "metadata": {},
   "outputs": [],
   "source": [
    "#fixing known input errors\n",
    "\n",
    "#capitalizing all ids\n",
    "rc_c.id_family = rc_c.id_family.str.capitalize()\n",
    "rc_c.id_child = rc_c.id_child.str.capitalize()"
   ]
  },
  {
   "cell_type": "code",
   "execution_count": null,
   "id": "2e3bcc8d",
   "metadata": {},
   "outputs": [],
   "source": [
    "# helper functions to define valid IDs and returning invalid rows\n",
    "\n",
    "def is_valid_id(s):\n",
    "    return isinstance(s,str) and len(s)==5 and s[-4:].isdigit()\n",
    "\n",
    "def is_valid_id_family(s):\n",
    "    return is_valid_id(s) and s.startswith('P')\n",
    "\n",
    "def is_valid_id_child(s):\n",
    "    return is_valid_id(s) and s.startswith('M')\n",
    "\n",
    "def erroneous_ids():\n",
    "    valid_id_family = rc_c.id_family.apply(is_valid_id_family)\n",
    "    valid_id_child = rc_c.id_child.apply(is_valid_id_child)\n",
    "    \n",
    "    return rc_c.loc[\n",
    "        rc_c.date_q.notna() & (\n",
    "            ~valid_id_family | ~valid_id_child\n",
    "        )\n",
    "    ][['id_family','id_child']]\n",
    "    "
   ]
  },
  {
   "cell_type": "code",
   "execution_count": null,
   "id": "dbb8b7a5",
   "metadata": {},
   "outputs": [],
   "source": [
    "erroneous_ids()"
   ]
  },
  {
   "cell_type": "code",
   "execution_count": null,
   "id": "7c7f5a03",
   "metadata": {},
   "outputs": [],
   "source": [
    "#P was missing from family_id for M3309\n",
    "set_col_for_record(\n",
    "    65,\n",
    "    'id_family',\n",
    "    'P1001'\n",
    ")"
   ]
  },
  {
   "cell_type": "code",
   "execution_count": null,
   "id": "587f3626",
   "metadata": {},
   "outputs": [],
   "source": [
    "#P was missing from family_id for M3310\n",
    "set_col_for_record(\n",
    "    66,\n",
    "    'id_family',\n",
    "    'P1001'\n",
    ")"
   ]
  },
  {
   "cell_type": "code",
   "execution_count": null,
   "id": "cb0ff3d1",
   "metadata": {},
   "outputs": [],
   "source": [
    "#P was replaced with zero in family_id for M3313\n",
    "set_col_for_record(\n",
    "    57,\n",
    "    'id_family',\n",
    "    'P1002'\n",
    ")"
   ]
  },
  {
   "cell_type": "code",
   "execution_count": null,
   "id": "826069dc",
   "metadata": {},
   "outputs": [],
   "source": [
    "#family_id incorrect M3400\n",
    "set_col_for_record(\n",
    "    78,\n",
    "    'id_family',\n",
    "    'P1030'\n",
    ")"
   ]
  },
  {
   "cell_type": "code",
   "execution_count": null,
   "id": "a6fa3475",
   "metadata": {},
   "outputs": [],
   "source": [
    "#family_id had i for 1 M3416\n",
    "set_col_for_record(\n",
    "    13,\n",
    "    'id_family',\n",
    "    'P1035'\n",
    ")"
   ]
  },
  {
   "cell_type": "code",
   "execution_count": null,
   "id": "73c0031d",
   "metadata": {},
   "outputs": [],
   "source": [
    "#family_id was M3495\n",
    "set_col_for_record(\n",
    "    37,\n",
    "    'id_family',\n",
    "    'P1060'\n",
    ")"
   ]
  },
  {
   "cell_type": "code",
   "execution_count": null,
   "id": "ebdcf740",
   "metadata": {},
   "outputs": [],
   "source": [
    "#family_id was M3501\n",
    "set_col_for_record(\n",
    "    11,\n",
    "    'id_family',\n",
    "    'P1062'\n",
    ")"
   ]
  },
  {
   "cell_type": "code",
   "execution_count": null,
   "id": "44f05f57",
   "metadata": {},
   "outputs": [],
   "source": [
    "#swapping values where family- and child ids are swapped\n",
    "m = rc_c.id_family.str.startswith('M') & rc_c.id_child.str.startswith('P')\n",
    "\n",
    "rc_c.loc[m, ['id_family', 'id_child']] = (\n",
    "    rc_c.loc[m, ['id_child', 'id_family']].values)"
   ]
  },
  {
   "cell_type": "code",
   "execution_count": null,
   "id": "67be0939",
   "metadata": {},
   "outputs": [],
   "source": [
    "erroneous_ids()"
   ]
  },
  {
   "cell_type": "markdown",
   "id": "674ad414",
   "metadata": {},
   "source": [
    "# Diet classification of participants\n",
    "\n",
    "Study participants have filled in RedCap survey forms that differ for children and their caretakers. On both forms there are multiple choice questions to more clearly specify the diet participants adhere to.\n",
    "\n",
    "This code contains all interpretations of survey answers to group participants to diet categories.\n",
    "\n",
    "\n",
    "## Form for Children\n",
    "Same row of check boxes was presented for both home and daycare diets:\n",
    "\n",
    "\n",
    "- Ei erityisruokavaliota tai välttämisruokavaliota\n",
    "- Laktoositon tai vähälaktoosinen ruokavalio\n",
    "- Gluteeniton ruokavalio (vältetään vehnää,ruista ja ohraa)\n",
    "- Ruokavalio, joka ei sisällä punaista lihaa\n",
    "- Vegaaninen ruokavalio (ei sisällä mitään eläinperäisiä tuotteita)\n",
    "- Kasvisruokavalio, joka sisältää yhtä tai useampaa seuraavista eläinkunnan tuotteista: kalaa, kananmunaa ja/tai maitotuotteita\n",
    "- Ruokarajoituksia uskonnollisista syistä\n",
    "- Muu ruokavalio\n",
    "\n",
    "The code below encodes selections as `1`s and unchecked boxes as `0`s. For each form, we get an eight-character string of `0`s and `1`s. All combinations found are mapped to a diet category according to the research group's interpretation."
   ]
  },
  {
   "cell_type": "code",
   "execution_count": null,
   "id": "14408f9c",
   "metadata": {},
   "outputs": [],
   "source": [
    "diet_id = {\n",
    "    '00001000': 0,\n",
    "    '00000100': 1,\n",
    "    '00001100': 1, #contradictory answer\n",
    "    '10000100': 1, #contradictory answer\n",
    "    '01000100': 2,\n",
    "    '00010100': 3,\n",
    "    '01000000': 4,\n",
    "    '10000001': 5,\n",
    "    '10000000': 6,\n",
    "}\n",
    "diet_name = {    \n",
    "    0: 'vegan',\n",
    "    1: 'vegetarian',\n",
    "    2: 'vegetarian lactose-free',\n",
    "    3: 'vegetarian no red meat', \n",
    "    4: 'mixed diet lactose-free',\n",
    "    5: 'mixed diet other diet', \n",
    "    6: 'mixed diet',\n",
    "}\n",
    "diet_main = {    \n",
    "    0: 'vegan',\n",
    "    1: 'vegetarian',\n",
    "    2: 'vegetarian',\n",
    "    3: 'vegetarian', \n",
    "    4: 'mixed_diet',\n",
    "    5: 'mixed_diet', \n",
    "    6: 'mixed_diet',\n",
    "}"
   ]
  },
  {
   "cell_type": "code",
   "execution_count": null,
   "id": "8ed9f391",
   "metadata": {},
   "outputs": [],
   "source": [
    "rc_c['diet_dc_ticks'] = \\\n",
    "rc_c.diet_dc___1.astype(str) + \\\n",
    "rc_c.diet_dc___2.astype(str) + \\\n",
    "rc_c.diet_dc___3.astype(str) + \\\n",
    "rc_c.diet_dc___4.astype(str) + \\\n",
    "rc_c.diet_dc___5.astype(str) + \\\n",
    "rc_c.diet_dc___6.astype(str) + \\\n",
    "rc_c.diet_dc___7.astype(str) + \\\n",
    "rc_c.diet_dc___8.astype(str)\n",
    "\n",
    "rc_c['diet_home_ticks'] = \\\n",
    "rc_c.diet_home___1.astype(str) + \\\n",
    "rc_c.diet_home___2.astype(str) + \\\n",
    "rc_c.diet_home___3.astype(str) + \\\n",
    "rc_c.diet_home___4.astype(str) + \\\n",
    "rc_c.diet_home___5.astype(str) + \\\n",
    "rc_c.diet_home___6.astype(str) + \\\n",
    "rc_c.diet_home___7.astype(str) + \\\n",
    "rc_c.diet_home___8.astype(str)\n",
    "\n",
    "rc_c['diet_dc_id'] = rc_c.diet_dc_ticks.map(diet_id)\n",
    "rc_c['diet_dc'] = rc_c.diet_dc_id.map(diet_name)\n",
    "\n",
    "rc_c['diet_home_id'] = rc_c.diet_home_ticks.map(diet_id)\n",
    "rc_c['diet_home'] = rc_c.diet_home_id.map(diet_name)\n",
    "\n",
    "rc_c['diet_main'] = rc_c[['diet_dc_id', 'diet_home_id']].max(axis=1).map(diet_main)"
   ]
  },
  {
   "cell_type": "markdown",
   "id": "7bd60d45",
   "metadata": {},
   "source": [
    "## Caregivers\n",
    "\n",
    "This data not used yet."
   ]
  },
  {
   "cell_type": "raw",
   "id": "bc8be445",
   "metadata": {},
   "source": [
    "rc_cg = pd.read_csv(\n",
    "    '../data/RAW/redcap/caregiver.csv',\n",
    "    index_col=0\n",
    ")\n",
    "s = rc_cg.mira2_huoltajan_taustatieto_ja_ruoankyttkysely_timestamp\n",
    "rc_cg['date_q'] = pd.to_datetime(s.mask(s == '[not completed]'))\n"
   ]
  },
  {
   "cell_type": "markdown",
   "id": "b58adc7a",
   "metadata": {},
   "source": [
    "# Samples\n",
    "\n",
    "Participants gave fecal and urine samples for lab testing. Age at sample time is calculated for analysis and to hide DoB. Existence of date is used to track which participants gave samples."
   ]
  },
  {
   "cell_type": "code",
   "execution_count": null,
   "id": "58dac75e",
   "metadata": {},
   "outputs": [],
   "source": [
    "f_samples = pd.read_excel(\n",
    "    '../data/RAW/fecal_and_urine_samples.xlsx',\n",
    "    sheet_name='feces',\n",
    "    usecols=[\n",
    "        'id',\n",
    "        'fecal_date',\n",
    "    ]\n",
    ")"
   ]
  },
  {
   "cell_type": "code",
   "execution_count": null,
   "id": "ff53f8f3",
   "metadata": {},
   "outputs": [],
   "source": [
    "u_samples = pd.read_excel(\n",
    "    '../data/RAW/fecal_and_urine_samples.xlsx',\n",
    "    sheet_name='urines',\n",
    "    usecols=[\n",
    "        'id',\n",
    "        'urine_date',\n",
    "    ]\n",
    ")"
   ]
  },
  {
   "cell_type": "code",
   "execution_count": null,
   "id": "492672c4",
   "metadata": {},
   "outputs": [],
   "source": [
    "#time inputs in spreadsheet are all kinds of off\n",
    "from datetime import datetime, time\n",
    "from math import isnan\n",
    "\n",
    "def clean_time(t):\n",
    "    if isinstance(t, time):\n",
    "        #correct inputs are parsed when reading excel, keeping those\n",
    "        return t\n",
    "    if isinstance(t, float):\n",
    "        #empty cells come in as NaN\n",
    "        if isnan(t):\n",
    "            return None\n",
    "        #short inputs get parsed as float\n",
    "        t = str(t)\n",
    "    if isinstance(t, str):\n",
    "        #remaining problems should be strings\n",
    "        #removing any spaces and replacing . with : \n",
    "        t = t.strip(' .').replace(' ','').replace('.',':')\n",
    "        if t.count(':')<2:\n",
    "            #in some cases seconds are missing, so adding 00\n",
    "            t += ':00'\n",
    "        return datetime.strptime(t, \"%H:%M:%S\").time()\n",
    "    raise Exception(f'Not prepared to process {type(t)}')\n",
    "\n",
    "b_samples = pd.read_excel(\n",
    "    '../data/RAW/blood_samples.xlsx',\n",
    "    sheet_name='blood_sample_collection',\n",
    "    usecols=[\n",
    "        'id',\n",
    "        'blood_collected_time',\n",
    "    ],\n",
    ")\n",
    "\n",
    "b_samples['blood_time_of_day'] = b_samples.blood_collected_time.apply(clean_time)"
   ]
  },
  {
   "cell_type": "markdown",
   "id": "7f469910",
   "metadata": {},
   "source": [
    "# Merging\n",
    "\n",
    "Merging dataframes in participant ID.\n",
    "\n",
    "For privacy, no date columns are written out to master, age at sample times is calculated."
   ]
  },
  {
   "cell_type": "code",
   "execution_count": null,
   "id": "7cc9cd08",
   "metadata": {},
   "outputs": [],
   "source": [
    "participants = consent.merge(\n",
    "    reserch_steps,\n",
    "    left_on=['id'],\n",
    "    right_on=['id'],\n",
    "    how='outer'\n",
    ").merge(\n",
    "    rc_c,\n",
    "    left_on=['id'],\n",
    "    right_on=['id_child'],\n",
    "    how='outer',\n",
    "    suffixes=('_consent', '_redcap')\n",
    ").merge(\n",
    "    f_samples,\n",
    "    on='id',\n",
    "    how='outer',\n",
    ").merge(\n",
    "    u_samples,\n",
    "    on='id',\n",
    "    how='outer',\n",
    ").merge(\n",
    "    b_samples,\n",
    "    on='id',\n",
    "    how='outer',\n",
    ")"
   ]
  },
  {
   "cell_type": "code",
   "execution_count": null,
   "id": "9638553e",
   "metadata": {},
   "outputs": [],
   "source": [
    "participants['age_q'] = (participants.date_q.dt.normalize() - participants.dob).dt.days"
   ]
  },
  {
   "cell_type": "code",
   "execution_count": null,
   "id": "5ae8cead",
   "metadata": {},
   "outputs": [],
   "source": [
    "participants['age_informed_consent'] = (participants.consent_date - participants.dob).dt.days"
   ]
  },
  {
   "cell_type": "code",
   "execution_count": null,
   "id": "4f112b08",
   "metadata": {},
   "outputs": [],
   "source": [
    "participants['age_blood'] = (pd.to_datetime(participants.date_blood, errors='coerce') - participants.dob).dt.days"
   ]
  },
  {
   "cell_type": "code",
   "execution_count": null,
   "id": "520cc03b",
   "metadata": {},
   "outputs": [],
   "source": [
    "participants['age_feces'] = (participants.fecal_date - participants.dob).dt.days"
   ]
  },
  {
   "cell_type": "code",
   "execution_count": null,
   "id": "c8cf4bfa",
   "metadata": {},
   "outputs": [],
   "source": [
    "participants['age_urine'] = (participants.urine_date - participants.dob).dt.days"
   ]
  },
  {
   "cell_type": "markdown",
   "id": "3b6dbfd0",
   "metadata": {},
   "source": [
    "## ID Checks"
   ]
  },
  {
   "cell_type": "code",
   "execution_count": null,
   "id": "a1ec8af3",
   "metadata": {},
   "outputs": [],
   "source": [
    "#checking for mismatched family ids\n",
    "participants[participants.id_family_redcap.notna() & (participants.id_family_consent != participants.id_family_redcap)][['id','id_family_consent','id_family_redcap']]"
   ]
  },
  {
   "cell_type": "code",
   "execution_count": null,
   "id": "57446b21",
   "metadata": {},
   "outputs": [],
   "source": [
    "#number of family ids missing in redcap data \n",
    "participants.id_family_redcap.isna().sum()"
   ]
  },
  {
   "cell_type": "code",
   "execution_count": null,
   "id": "1a9d4a3a",
   "metadata": {},
   "outputs": [],
   "source": [
    "#using family_id from consent data\n",
    "participants['id_family'] = participants.id_family_consent"
   ]
  },
  {
   "cell_type": "markdown",
   "id": "27855fae",
   "metadata": {},
   "source": [
    "# Participants master file\n",
    "\n",
    "Combining person-level data to a single table without PII.\n",
    "\n",
    "For dta hygiene, only explicitly selected columns are written out to the master data file on `data/main`."
   ]
  },
  {
   "cell_type": "code",
   "execution_count": null,
   "id": "440acfb5",
   "metadata": {},
   "outputs": [],
   "source": [
    "variables= [\n",
    "    'id',\n",
    "    'id_family',\n",
    "    'age_informed_consent',\n",
    "    'diet_reported',\n",
    "    'daycare_municipal',\n",
    "    'discontinued',\n",
    "    'dc_id',\n",
    "    'dc_group_id',\n",
    "    'age_blood',\n",
    "    'blood_time_of_day',\n",
    "    'age_feces',\n",
    "    'age_urine',\n",
    "    'sex',\n",
    "    'age_q',\n",
    "    'diet_dc_id',\n",
    "    'diet_dc',\n",
    "    'diet_home_id',\n",
    "    'diet_home',\n",
    "    'diet_main',\n",
    "]\n",
    "\n",
    "descriptions = [\n",
    "    'unique identifier of study participant',\n",
    "    'unique identifier participating family',\n",
    "    'age of participant at time reserch group received informed consent',\n",
    "    'diet reported at enrollment',\n",
    "    'boolean denoting whether daycare center attended is municipally operated',\n",
    "    'boolean denoting whether participant discontinued the study before completion',\n",
    "    'unique identifier of daycare center',\n",
    "    'unique identifier of group at daycare center',\n",
    "    'age of participant at time of blood sampling',\n",
    "    'time of day when blood sample was taken',\n",
    "    'age of participant at time of fecal sampling',\n",
    "    'age of participant at time of urine sampling',\n",
    "    'sex of participant (1=F, 2=M)',\n",
    "    'age of participant at time of completing questionnaire',\n",
    "    'unique identifier for diet subgroup at daycare based on questionnaire',\n",
    "    'label for diet group at daycare based on questionnaire',\n",
    "    'unique identifier for diet subgroup at home based on questionnaire',\n",
    "    'label for diet group at home based on questionnaire',\n",
    "    'label for overall diet group',\n",
    "]"
   ]
  },
  {
   "cell_type": "code",
   "execution_count": null,
   "id": "c06ca44c",
   "metadata": {},
   "outputs": [],
   "source": [
    "with pd.ExcelWriter('../data/main/participants_master.xlsx') as writer:\n",
    "    participants[variables].to_excel(\n",
    "        writer, \n",
    "        sheet_name='participants',\n",
    "        index=False\n",
    "    )\n",
    "    \n",
    "    pd.DataFrame(\n",
    "        {'variable_name': variables,\n",
    "         'variable_description': descriptions,\n",
    "        }\n",
    "    ).to_excel(\n",
    "        writer, \n",
    "        sheet_name='dictionary',\n",
    "        index=False\n",
    "    )"
   ]
  },
  {
   "cell_type": "code",
   "execution_count": null,
   "id": "f68adadc",
   "metadata": {},
   "outputs": [],
   "source": []
  }
 ],
 "metadata": {
  "kernelspec": {
   "display_name": "Python 3 (ipykernel)",
   "language": "python",
   "name": "python3"
  },
  "language_info": {
   "codemirror_mode": {
    "name": "ipython",
    "version": 3
   },
   "file_extension": ".py",
   "mimetype": "text/x-python",
   "name": "python",
   "nbconvert_exporter": "python",
   "pygments_lexer": "ipython3",
   "version": "3.9.13"
  }
 },
 "nbformat": 4,
 "nbformat_minor": 5
}
