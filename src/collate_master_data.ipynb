{
 "cells": [
  {
   "cell_type": "markdown",
   "id": "29ab257e",
   "metadata": {},
   "source": [
    "# Data Preprocessing\n",
    "\n",
    "This python notebook contains code needed to extract data for analysis from several source files containing personally identifiable information (PII). The outputs are data files in `data/main` that contain only data values for analysis and participant IDs, but no PII."
   ]
  },
  {
   "cell_type": "code",
   "execution_count": null,
   "id": "edf16a79",
   "metadata": {},
   "outputs": [],
   "source": [
    "import pandas as pd\n",
    "import numpy as np"
   ]
  },
  {
   "cell_type": "code",
   "execution_count": null,
   "id": "55495f81",
   "metadata": {},
   "outputs": [],
   "source": [
    "from pathlib import Path\n",
    "Path(\"../data/main\").mkdir(parents=True, exist_ok=True)"
   ]
  },
  {
   "cell_type": "code",
   "execution_count": null,
   "id": "a726491a",
   "metadata": {},
   "outputs": [],
   "source": [
    "#reading only specific fields from redcap data to avoid PII\n",
    "#using redcap record_id as pandas index\n",
    "rc_c = pd.read_csv(\n",
    "    '../data/RAW/redcap/child.csv',\n",
    "    usecols=lambda c: c in ['record_id','id_child','id_family','mira2_lapsen_taustatieto_ja_ruoankyttkysely_timestamp'] or c.startswith('diet_'),\n",
    "    index_col=0\n",
    ")"
   ]
  },
  {
   "cell_type": "code",
   "execution_count": null,
   "id": "03bb0cd3",
   "metadata": {},
   "outputs": [],
   "source": [
    "#fixing known input errors\n",
    "\n",
    "#capitalizing all ids\n",
    "rc_c.id_family = rc_c.id_family.str.capitalize()\n",
    "rc_c.id_child = rc_c.id_child.str.capitalize()"
   ]
  },
  {
   "cell_type": "code",
   "execution_count": null,
   "id": "2294347e",
   "metadata": {},
   "outputs": [],
   "source": [
    "#helper function to update value of given column on row indexed by redcap record_id\n",
    "def set_col_for_record(record_id, col, val):\n",
    "    \n",
    "    #at points to a single cell by index and col name\n",
    "    old_val = rc_c.at[record_id,col]\n",
    "    idf = rc_c.at[record_id,'id_family']\n",
    "    idc = rc_c.at[record_id,'id_child']\n",
    "    \n",
    "    rc_c.at[record_id,col] = val\n",
    "\n",
    "    print(f'{record_id}, {idf}, {idc}, {col}: {old_val} --> {val}')"
   ]
  },
  {
   "cell_type": "code",
   "execution_count": null,
   "id": "e5b39ad5",
   "metadata": {},
   "outputs": [],
   "source": [
    "# M3339 shows as not completed in form data, but data is valid and input date confirmed directly from participant\n",
    "\n",
    "set_col_for_record(\n",
    "    70,\n",
    "    'mira2_lapsen_taustatieto_ja_ruoankyttkysely_timestamp',\n",
    "    '2022-06-21 12:00:00'\n",
    ")\n"
   ]
  },
  {
   "cell_type": "code",
   "execution_count": null,
   "id": "2e3bcc8d",
   "metadata": {},
   "outputs": [],
   "source": [
    "# helper functions to define valid IDs and returning invalid rows\n",
    "\n",
    "def is_valid_id(s):\n",
    "    return isinstance(s,str) and len(s)==5 and s[-4:].isdigit()\n",
    "\n",
    "def is_valid_id_family(s):\n",
    "    return is_valid_id(s) and s.startswith('P')\n",
    "\n",
    "def is_valid_id_child(s):\n",
    "    return is_valid_id(s) and s.startswith('M')\n",
    "\n",
    "def erroneous_ids():\n",
    "    valid_id_family = rc_c.id_family.apply(is_valid_id_family)\n",
    "    valid_id_child = rc_c.id_child.apply(is_valid_id_child)\n",
    "    completed = rc_c.mira2_lapsen_taustatieto_ja_ruoankyttkysely_timestamp != '[not completed]'\n",
    "    \n",
    "    return rc_c.loc[\n",
    "        completed & (\n",
    "            ~valid_id_family | ~valid_id_child\n",
    "        )\n",
    "    ]\n",
    "    "
   ]
  },
  {
   "cell_type": "code",
   "execution_count": null,
   "id": "dbb8b7a5",
   "metadata": {},
   "outputs": [],
   "source": [
    "erroneous_ids()"
   ]
  },
  {
   "cell_type": "code",
   "execution_count": null,
   "id": "7c7f5a03",
   "metadata": {},
   "outputs": [],
   "source": [
    "#P was missing from family_id for M3309\n",
    "set_col_for_record(\n",
    "    65,\n",
    "    'id_family',\n",
    "    'P1001'\n",
    ")"
   ]
  },
  {
   "cell_type": "code",
   "execution_count": null,
   "id": "587f3626",
   "metadata": {},
   "outputs": [],
   "source": [
    "#P was missing from family_id for M3310\n",
    "set_col_for_record(\n",
    "    66,\n",
    "    'id_family',\n",
    "    'P1001'\n",
    ")"
   ]
  },
  {
   "cell_type": "code",
   "execution_count": null,
   "id": "cb0ff3d1",
   "metadata": {},
   "outputs": [],
   "source": [
    "#P was replaced with zero in family_id for M3313\n",
    "set_col_for_record(\n",
    "    57,\n",
    "    'id_family',\n",
    "    'P1002'\n",
    ")"
   ]
  },
  {
   "cell_type": "code",
   "execution_count": null,
   "id": "826069dc",
   "metadata": {},
   "outputs": [],
   "source": [
    "#family_id incorrect M3400\n",
    "set_col_for_record(\n",
    "    78,\n",
    "    'id_family',\n",
    "    'P1030'\n",
    ")"
   ]
  },
  {
   "cell_type": "code",
   "execution_count": null,
   "id": "a6fa3475",
   "metadata": {},
   "outputs": [],
   "source": [
    "#family_id had i for 1 M3416\n",
    "set_col_for_record(\n",
    "    13,\n",
    "    'id_family',\n",
    "    'P1035'\n",
    ")"
   ]
  },
  {
   "cell_type": "code",
   "execution_count": null,
   "id": "73c0031d",
   "metadata": {},
   "outputs": [],
   "source": [
    "#family_id was M3495\n",
    "set_col_for_record(\n",
    "    37,\n",
    "    'id_family',\n",
    "    'P1060'\n",
    ")"
   ]
  },
  {
   "cell_type": "code",
   "execution_count": null,
   "id": "ebdcf740",
   "metadata": {},
   "outputs": [],
   "source": [
    "#family_id was M3501\n",
    "set_col_for_record(\n",
    "    11,\n",
    "    'id_family',\n",
    "    'P1062'\n",
    ")"
   ]
  },
  {
   "cell_type": "code",
   "execution_count": null,
   "id": "44f05f57",
   "metadata": {},
   "outputs": [],
   "source": [
    "#swapping values where family- and child ids are swapped\n",
    "m = rc_c.id_family.str.startswith('M') & rc_c.id_child.str.startswith('P')\n",
    "\n",
    "rc_c.loc[m, ['id_family', 'id_child']] = (\n",
    "    rc_c.loc[m, ['id_child', 'id_family']].values)"
   ]
  },
  {
   "cell_type": "code",
   "execution_count": null,
   "id": "67be0939",
   "metadata": {},
   "outputs": [],
   "source": [
    "erroneous_ids()"
   ]
  },
  {
   "cell_type": "code",
   "execution_count": null,
   "id": "c1e6099a",
   "metadata": {},
   "outputs": [],
   "source": [
    "rc_c.to_csv(\n",
    "    '../data/main/redcap_child_diet.csv',\n",
    "    index=False\n",
    ")"
   ]
  },
  {
   "cell_type": "code",
   "execution_count": null,
   "id": "1c3d60f3",
   "metadata": {},
   "outputs": [],
   "source": [
    "#full list of food intakes\n",
    "food_intake_records = pd.read_excel(\n",
    "    '../data/RAW/aromi_product_ingredient.xlsx', \n",
    "    sheet_name='Tutkimusraportti',\n",
    ").drop(\n",
    "    columns=[\n",
    "        'Syntymäaika',\n",
    "        'Ryhmätagi',\n",
    "        'Ruokapäiväkirjaryhmä',\n",
    "        'Ruokapäiväkirjan nimi',\n",
    "    ]\n",
    ")\n",
    "\n",
    "food_intake_records.to_csv(\n",
    "    '../data/main/food_intake_records.csv',\n",
    "    index=False\n",
    ")"
   ]
  },
  {
   "cell_type": "code",
   "execution_count": null,
   "id": "48c478f4",
   "metadata": {},
   "outputs": [],
   "source": [
    "import shutil\n",
    "shutil.copy2('../data/RAW/families.csv', '../data/main/')"
   ]
  }
 ],
 "metadata": {
  "kernelspec": {
   "display_name": "Python 3 (ipykernel)",
   "language": "python",
   "name": "python3"
  },
  "language_info": {
   "codemirror_mode": {
    "name": "ipython",
    "version": 3
   },
   "file_extension": ".py",
   "mimetype": "text/x-python",
   "name": "python",
   "nbconvert_exporter": "python",
   "pygments_lexer": "ipython3",
   "version": "3.9.13"
  }
 },
 "nbformat": 4,
 "nbformat_minor": 5
}
