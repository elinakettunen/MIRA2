{
 "cells": [
  {
   "cell_type": "markdown",
   "id": "29ab257e",
   "metadata": {},
   "source": [
    "# Data Preprocessing\n",
    "\n",
    "This python notebook contains code needed to extract data for analysis from several source files containing personally identifiable information (PII). The outputs are data files in `data/main` that contain only data values for analysis and participant IDs, but no PII."
   ]
  },
  {
   "cell_type": "code",
   "execution_count": null,
   "id": "edf16a79",
   "metadata": {},
   "outputs": [],
   "source": [
    "import pandas as pd"
   ]
  },
  {
   "cell_type": "code",
   "execution_count": null,
   "id": "55495f81",
   "metadata": {},
   "outputs": [],
   "source": [
    "from pathlib import Path\n",
    "Path(\"../data/main\").mkdir(parents=True, exist_ok=True)"
   ]
  },
  {
   "cell_type": "markdown",
   "id": "bfbf506b",
   "metadata": {},
   "source": [
    "# Signups and informed consent\n",
    "\n",
    "We have one manually maintained spreadsheet for participant contact information."
   ]
  },
  {
   "cell_type": "code",
   "execution_count": null,
   "id": "a1c0186d",
   "metadata": {},
   "outputs": [],
   "source": [
    "import secrets \n",
    "\n",
    "import io\n",
    "import msoffcrypto\n",
    "\n",
    "decrypted_workbook = io.BytesIO()\n",
    "with open('../data/RAW/consent_protected.xlsx', 'rb') as file:\n",
    "    office_file = msoffcrypto.OfficeFile(file)\n",
    "    office_file.load_key(password=secrets.excel_pw)\n",
    "    office_file.decrypt(decrypted_workbook)\n",
    "\n",
    "consent = pd.read_excel(\n",
    "    decrypted_workbook,\n",
    "    sheet_name='consent',\n",
    "    usecols=[\n",
    "        'id',\n",
    "        'id_family',\n",
    "        'diet_reported',\n",
    "        'daycare',\n",
    "        'daycare_group',\n",
    "        'daycare_municipal',\n",
    "        'discontinued',\n",
    "        'consent_date',\n",
    "        'daycare_municipal',\n",
    "    ]\n",
    ")\n",
    "\n",
    "reserch_steps = pd.read_excel(\n",
    "    decrypted_workbook,\n",
    "    sheet_name='reserch_steps',\n",
    "    usecols=[\n",
    "        'id',\n",
    "        'date_blood',\n",
    "        'urine_sample',\n",
    "        'fecal_sample',\n",
    "    ]\n",
    ")"
   ]
  },
  {
   "cell_type": "markdown",
   "id": "2f273dbf",
   "metadata": {},
   "source": [
    "Generating pseudonymzation id's for daycare centers and groups within.\n",
    "\n",
    "Using an alphabetized list of names to keep generated id mappings fairly stable. They will only change if new inputs are made manually to the source file, which is not expected.\n",
    "\n",
    "Id stability should not be necessary, though. Analyses using the generated master only need these for grouping. They should not depend on ids being the same in subsequent version of the file.\n",
    "\n",
    "Daycare centers have unique names. Groups are made globally unique by concatenating center and group name."
   ]
  },
  {
   "cell_type": "code",
   "execution_count": null,
   "id": "de7fedc0",
   "metadata": {},
   "outputs": [],
   "source": [
    "keys = sorted(consent.daycare.dropna().unique())\n",
    "\n",
    "id_map = dict(zip(keys,range(len(keys))))\n",
    "\n",
    "consent['dc_id'] = consent.daycare.map(id_map)"
   ]
  },
  {
   "cell_type": "code",
   "execution_count": null,
   "id": "09e10a89",
   "metadata": {},
   "outputs": [],
   "source": [
    "dc_dcg = consent.daycare + consent.daycare_group\n",
    "\n",
    "keys = sorted(dc_dcg.dropna().unique())\n",
    "\n",
    "id_map = dict(zip(keys,range(len(keys))))\n",
    "\n",
    "consent['dc_group_id'] = dc_dcg.map(id_map)"
   ]
  },
  {
   "cell_type": "code",
   "execution_count": null,
   "id": "ed529496",
   "metadata": {},
   "outputs": [],
   "source": [
    "#converting to bool column\n",
    "consent.daycare_municipal = consent.daycare_municipal==1"
   ]
  },
  {
   "cell_type": "markdown",
   "id": "484e7651",
   "metadata": {},
   "source": [
    "# Redcap questionnaire\n",
    "\n",
    "Participants filled in background questionnaires in RedCAP, one for each child participant and one for caregivers participating in food records and biometric sampling."
   ]
  },
  {
   "cell_type": "markdown",
   "id": "68bccb3a",
   "metadata": {},
   "source": [
    "## Children"
   ]
  },
  {
   "cell_type": "code",
   "execution_count": null,
   "id": "a726491a",
   "metadata": {},
   "outputs": [],
   "source": [
    "#reading only specific fields from redcap data to avoid PII\n",
    "#using redcap record_id as pandas index\n",
    "rc_c = pd.read_csv(\n",
    "    '../data/RAW/redcap/child.csv',\n",
    "    usecols=lambda c: c in ['record_id','id_child','id_family','mira2_lapsen_taustatieto_ja_ruoankyttkysely_timestamp','birthday','sex'] or c.startswith('diet_'),\n",
    "    index_col=0\n",
    ")"
   ]
  },
  {
   "cell_type": "code",
   "execution_count": null,
   "id": "92f1cdc0",
   "metadata": {},
   "outputs": [],
   "source": [
    "s = rc_c.mira2_lapsen_taustatieto_ja_ruoankyttkysely_timestamp\n",
    "rc_c['date_q'] = pd.to_datetime(s.mask(s == '[not completed]'))"
   ]
  },
  {
   "cell_type": "code",
   "execution_count": null,
   "id": "2294347e",
   "metadata": {},
   "outputs": [],
   "source": [
    "#helper function to update value of given column on row indexed by redcap record_id\n",
    "def set_col_for_record(record_id, col, val):\n",
    "    \n",
    "    #at points to a single cell by index and col name\n",
    "    old_val = rc_c.at[record_id,col]\n",
    "    idf = rc_c.at[record_id,'id_family']\n",
    "    idc = rc_c.at[record_id,'id_child']\n",
    "    \n",
    "    rc_c.at[record_id,col] = val\n",
    "\n",
    "    print(f'{record_id}, {idf}, {idc}, {col}: {old_val} --> {val}')"
   ]
  },
  {
   "cell_type": "code",
   "execution_count": null,
   "id": "527f03bb",
   "metadata": {},
   "outputs": [],
   "source": [
    "set_col_for_record(\n",
    "    39,\n",
    "    'birthday',\n",
    "    '2015-08-12'\n",
    ")\n",
    "\n",
    "rc_c.birthday = pd.to_datetime(rc_c.birthday)"
   ]
  },
  {
   "cell_type": "code",
   "execution_count": null,
   "id": "e5b39ad5",
   "metadata": {},
   "outputs": [],
   "source": [
    "# M3339 shows as not completed in form data, but data is valid and input date confirmed directly from participant\n",
    "\n",
    "set_col_for_record(\n",
    "    70,\n",
    "    'date_q',\n",
    "    '2022-06-21'\n",
    ")\n"
   ]
  },
  {
   "cell_type": "code",
   "execution_count": null,
   "id": "c07df435",
   "metadata": {},
   "outputs": [],
   "source": [
    "#dropping incomplete answers\n",
    "rc_c = rc_c[rc_c.date_q.notna()]"
   ]
  },
  {
   "cell_type": "code",
   "execution_count": null,
   "id": "03bb0cd3",
   "metadata": {},
   "outputs": [],
   "source": [
    "#fixing known input errors\n",
    "\n",
    "#capitalizing all ids\n",
    "rc_c.id_family = rc_c.id_family.str.capitalize()\n",
    "rc_c.id_child = rc_c.id_child.str.capitalize()"
   ]
  },
  {
   "cell_type": "code",
   "execution_count": null,
   "id": "2e3bcc8d",
   "metadata": {},
   "outputs": [],
   "source": [
    "# helper functions to define valid IDs and returning invalid rows\n",
    "\n",
    "def is_valid_id(s):\n",
    "    return isinstance(s,str) and len(s)==5 and s[-4:].isdigit()\n",
    "\n",
    "def is_valid_id_family(s):\n",
    "    return is_valid_id(s) and s.startswith('P')\n",
    "\n",
    "def is_valid_id_child(s):\n",
    "    return is_valid_id(s) and s.startswith('M')\n",
    "\n",
    "def erroneous_ids():\n",
    "    valid_id_family = rc_c.id_family.apply(is_valid_id_family)\n",
    "    valid_id_child = rc_c.id_child.apply(is_valid_id_child)\n",
    "    \n",
    "    return rc_c.loc[\n",
    "        rc_c.date_q.notna() & (\n",
    "            ~valid_id_family | ~valid_id_child\n",
    "        )\n",
    "    ][['id_family','id_child']]\n",
    "    "
   ]
  },
  {
   "cell_type": "code",
   "execution_count": null,
   "id": "dbb8b7a5",
   "metadata": {},
   "outputs": [],
   "source": [
    "erroneous_ids()"
   ]
  },
  {
   "cell_type": "code",
   "execution_count": null,
   "id": "7c7f5a03",
   "metadata": {},
   "outputs": [],
   "source": [
    "#P was missing from family_id for M3309\n",
    "set_col_for_record(\n",
    "    65,\n",
    "    'id_family',\n",
    "    'P1001'\n",
    ")"
   ]
  },
  {
   "cell_type": "code",
   "execution_count": null,
   "id": "587f3626",
   "metadata": {},
   "outputs": [],
   "source": [
    "#P was missing from family_id for M3310\n",
    "set_col_for_record(\n",
    "    66,\n",
    "    'id_family',\n",
    "    'P1001'\n",
    ")"
   ]
  },
  {
   "cell_type": "code",
   "execution_count": null,
   "id": "cb0ff3d1",
   "metadata": {},
   "outputs": [],
   "source": [
    "#P was replaced with zero in family_id for M3313\n",
    "set_col_for_record(\n",
    "    57,\n",
    "    'id_family',\n",
    "    'P1002'\n",
    ")"
   ]
  },
  {
   "cell_type": "code",
   "execution_count": null,
   "id": "826069dc",
   "metadata": {},
   "outputs": [],
   "source": [
    "#family_id incorrect M3400\n",
    "set_col_for_record(\n",
    "    78,\n",
    "    'id_family',\n",
    "    'P1030'\n",
    ")"
   ]
  },
  {
   "cell_type": "code",
   "execution_count": null,
   "id": "a6fa3475",
   "metadata": {},
   "outputs": [],
   "source": [
    "#family_id had i for 1 M3416\n",
    "set_col_for_record(\n",
    "    13,\n",
    "    'id_family',\n",
    "    'P1035'\n",
    ")"
   ]
  },
  {
   "cell_type": "code",
   "execution_count": null,
   "id": "73c0031d",
   "metadata": {},
   "outputs": [],
   "source": [
    "#family_id was M3495\n",
    "set_col_for_record(\n",
    "    37,\n",
    "    'id_family',\n",
    "    'P1060'\n",
    ")"
   ]
  },
  {
   "cell_type": "code",
   "execution_count": null,
   "id": "ebdcf740",
   "metadata": {},
   "outputs": [],
   "source": [
    "#family_id was M3501\n",
    "set_col_for_record(\n",
    "    11,\n",
    "    'id_family',\n",
    "    'P1062'\n",
    ")"
   ]
  },
  {
   "cell_type": "code",
   "execution_count": null,
   "id": "44f05f57",
   "metadata": {},
   "outputs": [],
   "source": [
    "#swapping values where family- and child ids are swapped\n",
    "m = rc_c.id_family.str.startswith('M') & rc_c.id_child.str.startswith('P')\n",
    "\n",
    "rc_c.loc[m, ['id_family', 'id_child']] = (\n",
    "    rc_c.loc[m, ['id_child', 'id_family']].values)"
   ]
  },
  {
   "cell_type": "code",
   "execution_count": null,
   "id": "67be0939",
   "metadata": {},
   "outputs": [],
   "source": [
    "erroneous_ids()"
   ]
  },
  {
   "cell_type": "code",
   "execution_count": null,
   "id": "9638553e",
   "metadata": {},
   "outputs": [],
   "source": [
    "rc_c['age_q'] = (rc_c.date_q.dt.normalize() - rc_c.birthday).dt.days"
   ]
  },
  {
   "cell_type": "markdown",
   "id": "674ad414",
   "metadata": {},
   "source": [
    "# Diet classification of participants\n",
    "\n",
    "Study participants have filled in RedCap survey forms that differ for children and their caretakers. On both forms there are multiple choice questions to more clearly specify the diet participants adhere to.\n",
    "\n",
    "This code contains all interpretations of survey answers to group participants to diet categories.\n",
    "\n",
    "\n",
    "## Form for Children\n",
    "Same row of check boxes was presented for both home and daycare diets:\n",
    "\n",
    "\n",
    "- Ei erityisruokavaliota tai välttämisruokavaliota\n",
    "- Laktoositon tai vähälaktoosinen ruokavalio\n",
    "- Gluteeniton ruokavalio (vältetään vehnää,ruista ja ohraa)\n",
    "- Ruokavalio, joka ei sisällä punaista lihaa\n",
    "- Vegaaninen ruokavalio (ei sisällä mitään eläinperäisiä tuotteita)\n",
    "- Kasvisruokavalio, joka sisältää yhtä tai useampaa seuraavista eläinkunnan tuotteista: kalaa, kananmunaa ja/tai maitotuotteita\n",
    "- Ruokarajoituksia uskonnollisista syistä\n",
    "- Muu ruokavalio\n",
    "\n",
    "The code below encodes selections as `1`s and unchecked boxes as `0`s. For each form, we get an eight-character string of `0`s and `1`s. All combinations found are mapped to a diet category according to the research group's interpretation."
   ]
  },
  {
   "cell_type": "code",
   "execution_count": null,
   "id": "14408f9c",
   "metadata": {},
   "outputs": [],
   "source": [
    "diet_id = {\n",
    "    '00001000': 0,\n",
    "    '00000100': 1,\n",
    "    '00001100': 1, #contradictory answer\n",
    "    '10000100': 1, #contradictory answer\n",
    "    '01000100': 2,\n",
    "    '00010100': 3,\n",
    "    '01000000': 4,\n",
    "    '10000001': 5,\n",
    "    '10000000': 6,\n",
    "}\n",
    "diet_name = {    \n",
    "    0: 'vegan',\n",
    "    1: 'vegetarian',\n",
    "    2: 'vegetarian lactose-free',\n",
    "    3: 'vegetarian no red meat', \n",
    "    4: 'mixed diet lactose-free',\n",
    "    5: 'mixed diet other diet', \n",
    "    6: 'mixed diet',\n",
    "}\n",
    "diet_main = {    \n",
    "    0: 'vegan',\n",
    "    1: 'vegetarian',\n",
    "    2: 'vegetarian',\n",
    "    3: 'vegetarian', \n",
    "    4: 'mixed_diet',\n",
    "    5: 'mixed_diet', \n",
    "    6: 'mixed_diet',\n",
    "}"
   ]
  },
  {
   "cell_type": "code",
   "execution_count": null,
   "id": "8ed9f391",
   "metadata": {},
   "outputs": [],
   "source": [
    "rc_c['diet_dc_ticks'] = \\\n",
    "rc_c.diet_dc___1.astype(str) + \\\n",
    "rc_c.diet_dc___2.astype(str) + \\\n",
    "rc_c.diet_dc___3.astype(str) + \\\n",
    "rc_c.diet_dc___4.astype(str) + \\\n",
    "rc_c.diet_dc___5.astype(str) + \\\n",
    "rc_c.diet_dc___6.astype(str) + \\\n",
    "rc_c.diet_dc___7.astype(str) + \\\n",
    "rc_c.diet_dc___8.astype(str)\n",
    "\n",
    "rc_c['diet_home_ticks'] = \\\n",
    "rc_c.diet_home___1.astype(str) + \\\n",
    "rc_c.diet_home___2.astype(str) + \\\n",
    "rc_c.diet_home___3.astype(str) + \\\n",
    "rc_c.diet_home___4.astype(str) + \\\n",
    "rc_c.diet_home___5.astype(str) + \\\n",
    "rc_c.diet_home___6.astype(str) + \\\n",
    "rc_c.diet_home___7.astype(str) + \\\n",
    "rc_c.diet_home___8.astype(str)\n",
    "\n",
    "rc_c['diet_dc_id'] = rc_c.diet_dc_ticks.map(diet_id)\n",
    "rc_c['diet_dc'] = rc_c.diet_dc_id.map(diet_name)\n",
    "\n",
    "rc_c['diet_home_id'] = rc_c.diet_home_ticks.map(diet_id)\n",
    "rc_c['diet_home'] = rc_c.diet_home_id.map(diet_name)\n",
    "\n",
    "rc_c['diet_main'] = rc_c[['diet_dc_id', 'diet_home_id']].max(axis=1).map(diet_main)"
   ]
  },
  {
   "cell_type": "markdown",
   "id": "7bd60d45",
   "metadata": {},
   "source": [
    "## Caregivers\n",
    "\n",
    "This data not used yet."
   ]
  },
  {
   "cell_type": "raw",
   "id": "bc8be445",
   "metadata": {},
   "source": [
    "rc_cg = pd.read_csv(\n",
    "    '../data/RAW/redcap/caregiver.csv',\n",
    "    index_col=0\n",
    ")\n",
    "s = rc_cg.mira2_huoltajan_taustatieto_ja_ruoankyttkysely_timestamp\n",
    "rc_cg['date_q'] = pd.to_datetime(s.mask(s == '[not completed]'))\n"
   ]
  },
  {
   "cell_type": "markdown",
   "id": "27855fae",
   "metadata": {},
   "source": [
    "# Participants master\n",
    "\n",
    "Combining person-level data to a single table without PII.\n",
    "\n",
    "For dta hygiene, only explicitly selected columns are written out to the master data file on `data/main`."
   ]
  },
  {
   "cell_type": "code",
   "execution_count": null,
   "id": "7cc9cd08",
   "metadata": {},
   "outputs": [],
   "source": [
    "participants = consent.merge(\n",
    "    reserch_steps,\n",
    "    on=['id'],\n",
    "    how='outer'\n",
    ").merge(\n",
    "    rc_c,\n",
    "    left_on=['id','id_family'],\n",
    "    right_on=['id_child','id_family'],\n",
    "    how='outer'\n",
    ")"
   ]
  },
  {
   "cell_type": "code",
   "execution_count": null,
   "id": "5ae8cead",
   "metadata": {},
   "outputs": [],
   "source": [
    "participants['age_informed_consent'] = (participants.consent_date - participants.birthday).dt.days"
   ]
  },
  {
   "cell_type": "code",
   "execution_count": null,
   "id": "4f112b08",
   "metadata": {},
   "outputs": [],
   "source": [
    "participants['age_blood'] = (pd.to_datetime(participants.date_blood, errors='coerce') - participants.birthday).dt.days"
   ]
  },
  {
   "cell_type": "code",
   "execution_count": null,
   "id": "c06ca44c",
   "metadata": {},
   "outputs": [],
   "source": [
    "usecols= [\n",
    "    'id',\n",
    "    'id_family',\n",
    "    'age_informed_consent',\n",
    "    'diet_reported',\n",
    "    'daycare_municipal',\n",
    "    'discontinued',\n",
    "    'dc_id',\n",
    "    'dc_group_id',\n",
    "    'age_blood',\n",
    "    'urine_sample',\n",
    "    'fecal_sample',\n",
    "    'sex',\n",
    "    'age_q',\n",
    "    'diet_dc_id',\n",
    "    'diet_dc',\n",
    "    'diet_home_id',\n",
    "    'diet_home',\n",
    "    'diet_main',\n",
    "]\n",
    "\n",
    "participants = participants[usecols]"
   ]
  },
  {
   "cell_type": "markdown",
   "id": "6ec5f760",
   "metadata": {},
   "source": [
    "# Food intake records"
   ]
  },
  {
   "cell_type": "code",
   "execution_count": null,
   "id": "1c3d60f3",
   "metadata": {},
   "outputs": [],
   "source": [
    "#full list of food intakes\n",
    "food_records = pd.read_excel(\n",
    "    '../data/RAW/aromi_product_ingredient.xlsx', \n",
    "    sheet_name='Tutkimusraportti',\n",
    ").drop(\n",
    "    columns=[\n",
    "        'Syntymäaika',\n",
    "        'Ryhmätagi',\n",
    "        'Ruokapäiväkirjaryhmä',\n",
    "        'Ruokapäiväkirjan nimi',\n",
    "    ]\n",
    ")"
   ]
  },
  {
   "cell_type": "code",
   "execution_count": null,
   "id": "114d8e1f",
   "metadata": {},
   "outputs": [],
   "source": [
    "food_records['timestamp'] = pd.to_datetime (\n",
    "    food_records.Ruokailuaika\n",
    ")\n",
    "food_records.drop(columns=['Ruokailuaika'], inplace=True)\n",
    "\n",
    "food_records['food_code'] = food_records['Tuotetunnus'].fillna(food_records['Reseptin/tuotteen tunnus'])\n",
    "\n",
    "#manually created list of animal proportion in food items\n",
    "fap = pd.read_excel(\n",
    "    '../data/public/food_animal_proportion.xlsx', \n",
    "    sheet_name='manual_entry',\n",
    "    usecols=('food_code','food_animal_proportion')\n",
    ")\n",
    "\n",
    "food_records = food_records.merge(\n",
    "    fap, \n",
    "    left_on='food_code', \n",
    "    right_on='food_code', \n",
    "    how='left'\n",
    ").copy() #getting rid of fragmentation warning\n",
    "\n",
    "food_records['ase'] = food_records.ENERC * food_records.food_animal_proportion\n",
    "len(food_records.index)"
   ]
  },
  {
   "cell_type": "code",
   "execution_count": null,
   "id": "14e56b18",
   "metadata": {},
   "outputs": [],
   "source": [
    "intakes_per_person = food_records.groupby(\n",
    "    ['Tunnus']\n",
    ").sum(\n",
    "    numeric_only=True\n",
    ").drop(\n",
    "    columns=[\n",
    "        'Kulutettu määrä',\n",
    "        'Käyttömäärä',\n",
    "        'food_animal_proportion'\n",
    "    ]\n",
    ")\n",
    "\n",
    "intakes_per_person['asep'] = intakes_per_person.ase / intakes_per_person.ENERC\n",
    "len(intakes_per_person)"
   ]
  },
  {
   "cell_type": "code",
   "execution_count": null,
   "id": "3d6befef",
   "metadata": {},
   "outputs": [],
   "source": [
    "#calculating foor record time series indicators\n",
    "df = food_records[['Tunnus','timestamp']].copy()\n",
    "df['date'] = df.timestamp.dt.date\n",
    "\n",
    "fr_dates = df.groupby('Tunnus').agg({'timestamp': ['min', 'max'], 'date': 'nunique'})\n",
    "fr_dates.columns = ('fr_start','fr_end','fr_days')\n",
    "#fr_dates['fr_duration'] = fr_dates.fr_end - fr_dates.fr_start\n",
    "\n",
    "intakes_per_person = intakes_per_person.merge(\n",
    "    fr_dates,\n",
    "    left_index=True,\n",
    "    right_index=True,\n",
    ")\n",
    "len(intakes_per_person)"
   ]
  },
  {
   "cell_type": "code",
   "execution_count": null,
   "id": "23365030",
   "metadata": {},
   "outputs": [],
   "source": [
    "#essential micronutrients are total sums, they need to be normalised to daily intakes\n",
    "\n",
    "#we are divinding the total intake in the food records by the number of distinct days\n",
    "micro_nutrients = [\n",
    "    'VITC',\n",
    "    'F20D5N3',\n",
    "    'F22D6N3',\n",
    "    'FE',\n",
    "    'FOL',\n",
    "    'CA',\n",
    "    'F18D2CN6',\n",
    "    'F18D3N3'\n",
    "]\n",
    "\n",
    "for k in micro_nutrients:\n",
    "    intakes_per_person[f'{k}_daily_mean'] = (intakes_per_person[k] / intakes_per_person.fr_days)"
   ]
  },
  {
   "cell_type": "code",
   "execution_count": null,
   "id": "bf319798",
   "metadata": {},
   "outputs": [],
   "source": [
    "#energy densities of macronutrients\n",
    "\n",
    "e_densities = {\n",
    "    'FAT': 37,\n",
    "    'FAPU': 37,\n",
    "    'FASAT': 37,\n",
    "    'CHOAVL': 17,\n",
    "    'PROT': 17,\n",
    "    'FIBC': 8,\n",
    "}\n",
    "\n",
    "for k,v in e_densities.items():\n",
    "    # add a column for the total energy from macro nutrient k\n",
    "    intakes_per_person[f'e-{k}'] = intakes_per_person[k] * v\n",
    "    # calculcate energy proportion of k\n",
    "    intakes_per_person[f'ep-{k}'] = intakes_per_person[f'e-{k}'] / intakes_per_person.ENERC\n"
   ]
  },
  {
   "cell_type": "code",
   "execution_count": null,
   "id": "77320b3f",
   "metadata": {},
   "outputs": [],
   "source": [
    "#CHOLE as mg/MJ\n",
    "intakes_per_person['CHOLE_per_e'] = intakes_per_person.CHOLE / (intakes_per_person.ENERC / 1000) #mg/MJ"
   ]
  },
  {
   "cell_type": "code",
   "execution_count": null,
   "id": "80609174",
   "metadata": {},
   "outputs": [],
   "source": [
    "intakes_per_person['FIBC_per_e'] = intakes_per_person.FIBC / (intakes_per_person.ENERC / 1000) #g/MJ"
   ]
  },
  {
   "cell_type": "markdown",
   "id": "ba8a1e78",
   "metadata": {},
   "source": [
    "# Master data file for analysis\n",
    "\n",
    "Exporting merged tables as one file."
   ]
  },
  {
   "cell_type": "code",
   "execution_count": null,
   "id": "6cd3bb10",
   "metadata": {},
   "outputs": [],
   "source": [
    "master_data = participants.merge(\n",
    "    intakes_per_person,\n",
    "    left_on='id',\n",
    "    right_index=True,\n",
    ")\n",
    "\n",
    "master_data.to_csv(\n",
    "    '../data/main/master.csv',\n",
    "    index=False\n",
    ")\n",
    "master_data.to_excel(\n",
    "    '../data/main/master.xlsx',\n",
    "    index=False\n",
    ")"
   ]
  }
 ],
 "metadata": {
  "kernelspec": {
   "display_name": "Python 3 (ipykernel)",
   "language": "python",
   "name": "python3"
  },
  "language_info": {
   "codemirror_mode": {
    "name": "ipython",
    "version": 3
   },
   "file_extension": ".py",
   "mimetype": "text/x-python",
   "name": "python",
   "nbconvert_exporter": "python",
   "pygments_lexer": "ipython3",
   "version": "3.9.13"
  }
 },
 "nbformat": 4,
 "nbformat_minor": 5
}
