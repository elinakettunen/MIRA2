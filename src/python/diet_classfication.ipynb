{
 "cells": [
  {
   "cell_type": "code",
   "execution_count": null,
   "id": "9e045fc0",
   "metadata": {},
   "outputs": [],
   "source": [
    "import pandas as pd"
   ]
  },
  {
   "cell_type": "code",
   "execution_count": null,
   "id": "2caaf15c",
   "metadata": {},
   "outputs": [],
   "source": [
    "diet_id = {\n",
    "    '00001000': 0,\n",
    "    '00000100': 1,\n",
    "    '00001100': 1, #contradictory answer\n",
    "    '10000100': 1, #contradictory answer\n",
    "    '01000100': 2,\n",
    "    '00010100': 3,\n",
    "    '01000000': 4,\n",
    "    '10000001': 5,\n",
    "    '10000000': 6,\n",
    "}\n",
    "diet_name = {    \n",
    "    0: 'vegan',\n",
    "    1: 'vegetarian',\n",
    "    2: 'vegetarian lactose-free',\n",
    "    3: 'vegetarian no red meat', \n",
    "    4: 'mixed diet lactose-free',\n",
    "    5: 'mixed diet other diet', \n",
    "    6: 'mixed diet',\n",
    "}\n",
    "diet_main = {    \n",
    "    0: 'vegan',\n",
    "    1: 'vegetarian',\n",
    "    2: 'vegetarian',\n",
    "    3: 'vegetarian', \n",
    "    4: 'mixed diet',\n",
    "    5: 'mixed diet', \n",
    "    6: 'mixed diet',\n",
    "}"
   ]
  },
  {
   "cell_type": "code",
   "execution_count": null,
   "id": "df2f2527",
   "metadata": {},
   "outputs": [],
   "source": [
    "#collating redcap answers to diet category per person\n",
    "df = pd.read_csv('../../data/main/redcap_child_diet.csv')\n",
    "df.drop(df[df.mira2_lapsen_taustatieto_ja_ruoankyttkysely_timestamp == '[not completed]'].index, inplace=True)\n",
    "df.rename(columns={'id_child': 'id_person'}, inplace=True)"
   ]
  },
  {
   "cell_type": "code",
   "execution_count": null,
   "id": "0f436497",
   "metadata": {},
   "outputs": [],
   "source": [
    "df['diet_dc_ticks'] = \\\n",
    "df.diet_dc___1.astype(str) + \\\n",
    "df.diet_dc___2.astype(str) + \\\n",
    "df.diet_dc___3.astype(str) + \\\n",
    "df.diet_dc___4.astype(str) + \\\n",
    "df.diet_dc___5.astype(str) + \\\n",
    "df.diet_dc___6.astype(str) + \\\n",
    "df.diet_dc___7.astype(str) + \\\n",
    "df.diet_dc___8.astype(str)\n",
    "\n",
    "df['diet_home_ticks'] = \\\n",
    "df.diet_home___1.astype(str) + \\\n",
    "df.diet_home___2.astype(str) + \\\n",
    "df.diet_home___3.astype(str) + \\\n",
    "df.diet_home___4.astype(str) + \\\n",
    "df.diet_home___5.astype(str) + \\\n",
    "df.diet_home___6.astype(str) + \\\n",
    "df.diet_home___7.astype(str) + \\\n",
    "df.diet_home___8.astype(str)\n",
    "\n",
    "df['diet_dc_id'] = df.diet_dc_ticks.map(diet_id)\n",
    "df['diet_dc'] = df.diet_dc_id.map(diet_name)\n",
    "\n",
    "df['diet_home_id'] = df.diet_home_ticks.map(diet_id)\n",
    "df['diet_home'] = df.diet_home_id.map(diet_name)\n",
    "\n",
    "df['diet_main'] = df[['diet_dc_id', 'diet_home_id']].max(axis=1).map(diet_main)\n",
    "\n",
    "usecols = [\n",
    "        'id_person',\n",
    "        'diet_dc_ticks',\n",
    "        'diet_dc_id',\n",
    "        'diet_dc',\n",
    "        'diet_home_ticks',\n",
    "        'diet_home_id',\n",
    "        'diet_home',\n",
    "        'diet_main',\n",
    "    ]\n",
    "\n",
    "diet_children = df[usecols]"
   ]
  },
  {
   "cell_type": "code",
   "execution_count": null,
   "id": "7c2bbcf7",
   "metadata": {},
   "outputs": [],
   "source": [
    "diet_children.to_csv('../../data/main/diet_class.csv', index=False)"
   ]
  },
  {
   "cell_type": "code",
   "execution_count": null,
   "id": "1f140768",
   "metadata": {},
   "outputs": [],
   "source": [
    "diet_children[diet_children.diet_dc_id != diet_children.diet_home_id]"
   ]
  }
 ],
 "metadata": {
  "kernelspec": {
   "display_name": "Python 3 (ipykernel)",
   "language": "python",
   "name": "python3"
  },
  "language_info": {
   "codemirror_mode": {
    "name": "ipython",
    "version": 3
   },
   "file_extension": ".py",
   "mimetype": "text/x-python",
   "name": "python",
   "nbconvert_exporter": "python",
   "pygments_lexer": "ipython3",
   "version": "3.9.5"
  }
 },
 "nbformat": 4,
 "nbformat_minor": 5
}
