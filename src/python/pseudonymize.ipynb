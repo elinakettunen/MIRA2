{
 "cells": [
  {
   "cell_type": "code",
   "execution_count": null,
   "id": "edf16a79",
   "metadata": {},
   "outputs": [],
   "source": [
    "import pandas as pd\n",
    "import numpy as np"
   ]
  },
  {
   "cell_type": "code",
   "execution_count": null,
   "id": "03e13cb2",
   "metadata": {},
   "outputs": [],
   "source": [
    "#copy mira2_masterdata.xlsx manually from group share to the RAW data folder\n",
    "raw_biomarkers = pd.read_excel('../../data/RAW/mira2_masterdata.xlsx')\n",
    "\n",
    "#birth date is used to calculate age at sampling times, those could be used to calculate DoB\n",
    "#dropping all dates and keeping only the calculated age\n",
    "biomarkers = raw_biomarkers.drop(\n",
    "    ['date_birth','date_blood','date_feces','date_urine','date_anthro'],\n",
    "    axis=1\n",
    ")\n",
    "biomarkers.to_csv(\n",
    "    '../../data/main/biomarkers.csv',\n",
    "    index=False\n",
    ")"
   ]
  },
  {
   "cell_type": "code",
   "execution_count": null,
   "id": "03bb0cd3",
   "metadata": {},
   "outputs": [],
   "source": [
    "#reading only specific fields from redcap data to avoid PII\n",
    "df = pd.read_csv(\n",
    "    '../../data/RAW/redcap/child.csv',\n",
    "    usecols=lambda c: c in ['id_child','id_family','mira2_lapsen_taustatieto_ja_ruoankyttkysely_timestamp'] or c.startswith('diet_')\n",
    ")\n",
    "\n",
    "#fixing known input errors\n",
    "\n",
    "#capitalizing all ids\n",
    "df.id_family = df.id_family.str.capitalize()\n",
    "df.id_child = df.id_child.str.capitalize()\n",
    "\n",
    "#swapping values where family- and child ids are swapped\n",
    "m = df.id_family.str.startswith('M') & df.id_child.str.startswith('P')\n",
    "\n",
    "df.loc[m, ['id_family', 'id_child']] = (\n",
    "    df.loc[m, ['id_child', 'id_family']].values)\n",
    "\n",
    "df.to_csv(\n",
    "    '../../data/main/redcap_child_diet.csv',\n",
    "    index=False\n",
    ")"
   ]
  },
  {
   "cell_type": "code",
   "execution_count": null,
   "id": "a36ba4f3",
   "metadata": {},
   "outputs": [],
   "source": []
  }
 ],
 "metadata": {
  "kernelspec": {
   "display_name": "Python 3 (ipykernel)",
   "language": "python",
   "name": "python3"
  },
  "language_info": {
   "codemirror_mode": {
    "name": "ipython",
    "version": 3
   },
   "file_extension": ".py",
   "mimetype": "text/x-python",
   "name": "python",
   "nbconvert_exporter": "python",
   "pygments_lexer": "ipython3",
   "version": "3.9.5"
  }
 },
 "nbformat": 4,
 "nbformat_minor": 5
}
