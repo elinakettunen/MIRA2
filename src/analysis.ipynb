{
 "cells": [
  {
   "cell_type": "code",
   "execution_count": null,
   "id": "5994b7ca",
   "metadata": {},
   "outputs": [],
   "source": [
    "import numpy as np\n",
    "\n",
    "import pandas as pd\n",
    "\n",
    "import matplotlib.pyplot as plt\n",
    "import seaborn as sns\n",
    "\n",
    "from scipy.stats import pearsonr\n",
    "from statsmodels.stats.multitest import multipletests\n",
    "import statsmodels.api as sm\n",
    "\n",
    "from pathlib import Path\n",
    "Path(\"../out/\").mkdir(parents=True, exist_ok=True)"
   ]
  },
  {
   "cell_type": "markdown",
   "id": "8d9f14e6",
   "metadata": {},
   "source": [
    "# Data preparation"
   ]
  },
  {
   "cell_type": "code",
   "execution_count": null,
   "id": "f7c1de0e",
   "metadata": {},
   "outputs": [],
   "source": [
    "#manually created list of animal proportion in food items\n",
    "fap = pd.read_excel(\n",
    "    '../data/public/food_animal_proportion.xlsx', \n",
    "    sheet_name='manual_entry',\n",
    "    usecols=('food_code','food_animal_proportion')\n",
    ")"
   ]
  },
  {
   "cell_type": "code",
   "execution_count": null,
   "id": "dd8dd351",
   "metadata": {},
   "outputs": [],
   "source": [
    "#full list of food intakes\n",
    "food_records = pd.read_csv(\n",
    "    '../data/main/food_intake_records.csv'\n",
    ")\n",
    "food_records['timestamp'] = pd.to_datetime (\n",
    "    food_records.Ruokailuaika\n",
    ")\n",
    "food_records.drop(columns=['Ruokailuaika'], inplace=True)\n",
    "\n",
    "food_records['food_code'] = food_records['Tuotetunnus'].fillna(food_records['Reseptin/tuotteen tunnus'])\n",
    "\n",
    "food_records = food_records.merge(\n",
    "    fap, \n",
    "    left_on='food_code', \n",
    "    right_on='food_code', \n",
    "    how='left'\n",
    ").copy() #copy to defragment\n",
    "\n",
    "food_records['ase'] = food_records.ENERC * food_records.food_animal_proportion\n",
    "len(food_records.index)"
   ]
  },
  {
   "cell_type": "code",
   "execution_count": null,
   "id": "d0a94ee3",
   "metadata": {},
   "outputs": [],
   "source": [
    "#id mapping for families\n",
    "families = pd.read_csv('../data/main/families.csv')\n",
    "len(families.index)"
   ]
  },
  {
   "cell_type": "code",
   "execution_count": null,
   "id": "002e91ae",
   "metadata": {},
   "outputs": [],
   "source": [
    "#diet classification as reported in RedCap surveys, collated in another notebook\n",
    "diet_class = pd.read_csv('../data/main/diet_class.csv')\n",
    "len(diet_class.index)"
   ]
  },
  {
   "cell_type": "code",
   "execution_count": null,
   "id": "564d36f7",
   "metadata": {},
   "outputs": [],
   "source": [
    "# aggregating per person and merging other person-level data\n",
    "subjects_all = food_records.groupby(\n",
    "    ['Tunnus']\n",
    ").sum(\n",
    "    numeric_only=True\n",
    ").drop(\n",
    "    columns=[\n",
    "        'Kulutettu määrä',\n",
    "        'Käyttömäärä',\n",
    "        'food_animal_proportion'\n",
    "    ]\n",
    ").merge(\n",
    "    families, \n",
    "    left_on='Tunnus', \n",
    "    right_on='id_person', \n",
    "    how='left'\n",
    ").merge(\n",
    "    diet_class,\n",
    "    left_on = 'id_person',\n",
    "    right_on = 'id_person',\n",
    "    how='left'\n",
    ")\n",
    "subjects_all['asep'] = subjects_all.ase / subjects_all.ENERC\n",
    "len(subjects_all.index)"
   ]
  },
  {
   "cell_type": "code",
   "execution_count": null,
   "id": "25666bea",
   "metadata": {},
   "outputs": [],
   "source": [
    "#reused in several plots\n",
    "diet_classes=['vegan','vegetarian','mixed_diet']"
   ]
  },
  {
   "cell_type": "code",
   "execution_count": null,
   "id": "beb215ef",
   "metadata": {},
   "outputs": [],
   "source": [
    "#calculating foor record time series indicators\n",
    "df = food_records[['Tunnus','timestamp']].copy()\n",
    "df['date'] = df.timestamp.dt.date\n",
    "\n",
    "fr_dates = df.groupby('Tunnus').agg({'timestamp': ['min', 'max'], 'date': 'nunique'})\n",
    "fr_dates.columns = ('fr_start','fr_end','fr_days')\n",
    "#fr_dates['fr_duration'] = fr_dates.fr_end - fr_dates.fr_start\n",
    "\n",
    "subjects_all = subjects_all.merge(\n",
    "    fr_dates,\n",
    "    left_on='id_person',\n",
    "    right_index=True,\n",
    "    how='left'\n",
    ")\n",
    "len(subjects_all.index)"
   ]
  },
  {
   "cell_type": "code",
   "execution_count": null,
   "id": "8d473e84",
   "metadata": {},
   "outputs": [],
   "source": [
    "#reported diet, but food record too short\n",
    "subjects_all[(subjects_all.diet_main.notnull()) & (subjects_all.fr_days<3)][['id_family','id_person','diet_main','fr_start','fr_end','fr_days']]"
   ]
  },
  {
   "cell_type": "code",
   "execution_count": null,
   "id": "73640346",
   "metadata": {},
   "outputs": [],
   "source": [
    "# filtering subjects to those with a completed survey and at least 3 days food record\n",
    "subjects = subjects_all[(subjects_all.diet_main.notnull()) & (subjects_all.fr_days>=3)].copy()\n",
    "len(subjects.index)"
   ]
  },
  {
   "cell_type": "code",
   "execution_count": null,
   "id": "fa60d353",
   "metadata": {},
   "outputs": [],
   "source": [
    "#essential micronutrients are total sums, they need to be normalised to daily intakes\n",
    "\n",
    "#we are divinding the total intake in the food records by the number of distinct days\n",
    "micro_nutrients = [\n",
    "    'VITC',\n",
    "    'F20D5N3',\n",
    "    'F22D6N3',\n",
    "    'FE',\n",
    "    'FOL',\n",
    "    'CA',\n",
    "    'F18D2CN6',\n",
    "    'F18D3N3'\n",
    "]\n",
    "\n",
    "for k in micro_nutrients:\n",
    "    subjects[f'{k}_daily_mean'] = (subjects[k] / subjects.fr_days)"
   ]
  },
  {
   "cell_type": "code",
   "execution_count": null,
   "id": "37ef28f3",
   "metadata": {},
   "outputs": [],
   "source": [
    "#energy densities of macronutrients\n",
    "\n",
    "e_densities = {\n",
    "    'FAT': 37,\n",
    "    'FAPU': 37,\n",
    "    'FASAT': 37,\n",
    "    'CHOAVL': 17,\n",
    "    'PROT': 17,\n",
    "    'FIBC': 8,\n",
    "}\n",
    "\n",
    "for k,v in e_densities.items():\n",
    "    # add a column for the total energy from macro nutrient k\n",
    "    subjects[f'e-{k}'] = subjects[k] * v\n",
    "    # calculcate energy proportion of k\n",
    "    subjects[f'ep-{k}'] = subjects[f'e-{k}'] / subjects.ENERC\n",
    "\n",
    "#sum up the energy proportions as a sanity check, excluding FAT, as it's included in FAPU and FASAT\n",
    "#l = [f'ep-{k}' for k in ('FAT','CHOAVL','PROT','FIBC')]\n",
    "#eps['ep-sum'] = eps[l].sum(axis=1)"
   ]
  },
  {
   "cell_type": "code",
   "execution_count": null,
   "id": "29e5b085",
   "metadata": {},
   "outputs": [],
   "source": [
    "#CHOLE as mg/MJ\n",
    "subjects['CHOLE_per_e'] = subjects.CHOLE / (subjects.ENERC / 1000) #mg/MJ"
   ]
  },
  {
   "cell_type": "code",
   "execution_count": null,
   "id": "f3ca415d",
   "metadata": {},
   "outputs": [],
   "source": [
    "subjects['FIBC_per_e'] = subjects.FIBC / (subjects.ENERC / 1000) #g/MJ"
   ]
  },
  {
   "cell_type": "code",
   "execution_count": null,
   "id": "491c17c0",
   "metadata": {},
   "outputs": [],
   "source": [
    "children = subjects[subjects.year_of_birth > 2010]\n",
    "len(children.index)"
   ]
  },
  {
   "cell_type": "markdown",
   "id": "09db761a",
   "metadata": {},
   "source": [
    "# Data outputs"
   ]
  },
  {
   "cell_type": "code",
   "execution_count": null,
   "id": "96a7d5f2",
   "metadata": {},
   "outputs": [],
   "source": [
    "df = children[['ep-FAPU','e-FASAT','FIBC_per_e','CHOLE_per_e','asep']]\n",
    "\n",
    "table = []\n",
    "for c in df.columns[:-1]: #all but last column, i.e. asep\n",
    "    pr, pp = pearsonr(df.asep,df[c])\n",
    "    #print(pp)\n",
    "    table.append(['asep',c,pr,pp])\n",
    "\n",
    "df = pd.DataFrame(table,columns=['x','y','pearson_r','pearson_p'])\n",
    "df['fdr_bh_0_05'] = multipletests(df['pearson_p'], alpha=0.05, method='fdr_bh')[0]\n",
    "df = df.sort_values(by='pearson_p')\n",
    "#df = df.round(3)\n",
    "#display(df)\n",
    "df.to_excel('../out/correlation_macro_intakes_children.xlsx')"
   ]
  },
  {
   "cell_type": "code",
   "execution_count": null,
   "id": "d3939d3c",
   "metadata": {},
   "outputs": [],
   "source": [
    "df = children.groupby('diet_main').asep.describe()\n",
    "display(df)\n",
    "df.to_excel('../out/asep_describe_by_diet.xlsx')"
   ]
  },
  {
   "cell_type": "markdown",
   "id": "7f732e7a",
   "metadata": {},
   "source": [
    "# Figures"
   ]
  },
  {
   "cell_type": "code",
   "execution_count": null,
   "id": "ae5e5790",
   "metadata": {},
   "outputs": [],
   "source": [
    "scale=10\n",
    "sns.set_theme(style='white',font_scale=2)\n",
    "sns.set_context(\"paper\")\n",
    "\n",
    "tricolor_palette=['#55a868','#dd8452','#4c72b0']"
   ]
  },
  {
   "cell_type": "code",
   "execution_count": null,
   "id": "81101a1d",
   "metadata": {},
   "outputs": [],
   "source": [
    "from string import ascii_lowercase\n",
    "\n",
    "markers=['o','s','^']\n",
    "\n",
    "def regplot_asep(df,ax,y,y_label,set_xlabel=True):\n",
    "    ax.set_xlim(-0.01, df.asep.max()+0.01)\n",
    "    sns.regplot(ax=ax, x='asep', y=y, scatter=False, data=df)\n",
    "    sns.scatterplot(\n",
    "        ax=ax, \n",
    "        x='asep', \n",
    "        y=y, \n",
    "        hue='diet_main',\n",
    "        hue_order=diet_classes,\n",
    "        style='diet_main',\n",
    "        markers=markers,\n",
    "        data=df, \n",
    "        s=30*scale,\n",
    "        palette=tricolor_palette,\n",
    "        legend=False\n",
    "    )\n",
    "    if set_xlabel:\n",
    "        ax.set_xlabel('Animal source energy proportion')\n",
    "    else:\n",
    "        ax.set_xlabel(None)\n",
    "    ax.set_ylabel(y_label)\n",
    "\n",
    "\n",
    "from matplotlib.lines import Line2D\n",
    "def splats(n):\n",
    "    return [\n",
    "        Line2D(\n",
    "            [0], \n",
    "            [0], \n",
    "            marker=markers[i],\n",
    "            color='w',\n",
    "            markerfacecolor=tricolor_palette[i],\n",
    "            markersize=15\n",
    "        )\n",
    "        for i in range(0,n)\n",
    "    ]\n",
    "\n",
    "\n",
    "def fig_of_regplots(df,ys,cols=2):\n",
    "\n",
    "    plt.close()\n",
    "    sns.set_theme(style='white',font_scale=2)\n",
    "    \n",
    "    rows = int(len(ys)/cols)+(len(ys)%cols > 0)\n",
    "    h = rows*scale\n",
    "    if rows > 1: h+=2\n",
    "    w = cols*scale+2\n",
    "\n",
    "    fig, axs = plt.subplots(rows,cols,figsize=(w,h))\n",
    "        \n",
    "    if rows > 1:\n",
    "        axs_flat = [ax for row in axs for ax in row]\n",
    "    else:\n",
    "        axs_flat = axs\n",
    "\n",
    "    l = list(zip(ys.keys(),ys.values(),axs_flat))\n",
    "    i = 0\n",
    "    for t in l:\n",
    "        ax = t[2]\n",
    "        y = t[0]\n",
    "        regplot_asep(df,ax,y,t[1],set_xlabel=True)\n",
    "        i+=1\n",
    "\n",
    "    for ax in axs_flat[len(ys):]:\n",
    "        fig.delaxes(ax)\n",
    "        \n",
    "    from matplotlib.lines import Line2D\n",
    "    \n",
    "    plt.figlegend(splats(3),diet_classes,loc='right')\n",
    "        \n",
    "    return fig, axs"
   ]
  },
  {
   "cell_type": "code",
   "execution_count": null,
   "id": "312dc898",
   "metadata": {},
   "outputs": [],
   "source": [
    "# a multi-panel graph of macro intakes linear model correlation with asep\n",
    "sns.set_context(\"paper\")\n",
    "\n",
    "ys = {\n",
    "    'ep-FAT': 'Total Fat (E%)',\n",
    "    'ep-FAPU': 'Polyunsaturated fatty acids (E%)',\n",
    "    'ep-FASAT': 'Saturated fatty acids (E%)',\n",
    "    'ep-CHOAVL': 'Carbohydrates (E%)',\n",
    "    'ep-PROT': 'Protein (E%)',\n",
    "    'FIBC_per_e': 'Fiber (g/MJ)',\n",
    "}\n",
    "\n",
    "fig, axs = fig_of_regplots(children,ys,cols=3)\n",
    "\n",
    "#plt.show()\n",
    "plt.savefig('../out/macro_intakes_children.png')\n",
    "plt.close()"
   ]
  },
  {
   "cell_type": "code",
   "execution_count": null,
   "id": "62a9d6eb",
   "metadata": {},
   "outputs": [],
   "source": [
    "# a multi-panel graph of fat metabolism intakes linear model correlation with asep\n",
    "sns.set_context(\"paper\")\n",
    "\n",
    "ys = {\n",
    "    'ep-FASAT': 'Saturated fatty acids (E%)',\n",
    "    'ep-FAPU': 'Polyunsaturated fatty acids (E%)',\n",
    "    'CHOLE_per_e': 'Cholesterol (mg/MJ)',\n",
    "    'FIBC_per_e': 'Fiber (g/MJ)',    \n",
    "}\n",
    "\n",
    "fig, axs = fig_of_regplots(children,ys,cols=2)\n",
    "\n",
    "#plt.show()\n",
    "plt.savefig('../out/fat_fibc_intakes_children.png')\n",
    "plt.close()"
   ]
  },
  {
   "cell_type": "code",
   "execution_count": null,
   "id": "6045752e",
   "metadata": {},
   "outputs": [],
   "source": [
    "# a multi-panel graph of micronutrient intakes linear model correlation with asep\n",
    "sns.set_context(\"paper\")\n",
    "\n",
    "ys = {\n",
    "    'F20D5N3_daily_mean': 'EPA (mg/d)',\n",
    "    'F22D6N3_daily_mean': 'DHA (mg/d)',\n",
    "    'F18D2CN6_daily_mean': 'Linoleic acid (mg/d)',\n",
    "    'F18D3N3_daily_mean': 'Alpha-linoleic acid (mg/d)',\n",
    "    'FE_daily_mean': 'Iron (mg/d)',\n",
    "    'CA_daily_mean': 'Calcium (mg/d)',\n",
    "    'FOL_daily_mean': 'Folate (HPLC) (μg/d)',\n",
    "    'VITC_daily_mean': 'Ascorbic acid (mg/d)',\n",
    "}\n",
    "\n",
    "fig, axs = fig_of_regplots(children,ys,cols=3)\n",
    "\n",
    "#plt.show()\n",
    "plt.savefig('../out/micro_intakes_children.png')\n",
    "plt.close()"
   ]
  },
  {
   "cell_type": "code",
   "execution_count": null,
   "id": "05e0fbfb",
   "metadata": {},
   "outputs": [],
   "source": [
    "#histogram of asep values in buckets of 5% and coloured according to reported diet\n",
    "\n",
    "fg = sns.displot(\n",
    "    children,\n",
    "    x='asep',\n",
    "    binwidth=0.05,\n",
    "    hue='diet_main',\n",
    "    hue_order=diet_classes,\n",
    "    multiple='stack',\n",
    "    height=scale,\n",
    "    palette=tricolor_palette\n",
    ")\n",
    "fg.axes[0,0].set_xlabel('Animal source energy proportion')\n",
    "fg.axes[0,0].set_ylabel('Number of participants')\n",
    "\n",
    "plt.savefig(f'../out/displot_asep_diet_class_children.png')\n",
    "plt.close()"
   ]
  }
 ],
 "metadata": {
  "kernelspec": {
   "display_name": "Python 3 (ipykernel)",
   "language": "python",
   "name": "python3"
  },
  "language_info": {
   "codemirror_mode": {
    "name": "ipython",
    "version": 3
   },
   "file_extension": ".py",
   "mimetype": "text/x-python",
   "name": "python",
   "nbconvert_exporter": "python",
   "pygments_lexer": "ipython3",
   "version": "3.10.9"
  }
 },
 "nbformat": 4,
 "nbformat_minor": 5
}
