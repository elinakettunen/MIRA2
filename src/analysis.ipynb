{
 "cells": [
  {
   "cell_type": "code",
   "execution_count": null,
   "id": "5994b7ca",
   "metadata": {},
   "outputs": [],
   "source": [
    "import numpy as np\n",
    "\n",
    "import pandas as pd\n",
    "\n",
    "import matplotlib.pyplot as plt\n",
    "import seaborn as sns\n",
    "\n",
    "from scipy.stats import pearsonr\n",
    "from statsmodels.stats.multitest import multipletests\n",
    "import statsmodels.api as sm\n",
    "\n",
    "from pathlib import Path\n",
    "Path(\"../out/\").mkdir(parents=True, exist_ok=True)"
   ]
  },
  {
   "cell_type": "markdown",
   "id": "8d9f14e6",
   "metadata": {},
   "source": [
    "# Data loading\n",
    "\n",
    "Loading participant master data file, linking food record data, and filtering down to records with complete information.\n",
    "\n",
    "## Participants master"
   ]
  },
  {
   "cell_type": "code",
   "execution_count": null,
   "id": "507a608b",
   "metadata": {},
   "outputs": [],
   "source": [
    "participants_master = pd.read_excel(\n",
    "    '../data/main/participants_master.xlsx',\n",
    "    index_col='id'\n",
    ")"
   ]
  },
  {
   "cell_type": "markdown",
   "id": "41daf3ea",
   "metadata": {},
   "source": [
    "## Food intake records"
   ]
  },
  {
   "cell_type": "code",
   "execution_count": null,
   "id": "da0cb53e",
   "metadata": {},
   "outputs": [],
   "source": [
    "intakes_per_person = pd.read_excel(\n",
    "    '../data/main/intakes_detailed_with_asep.xlsx',\n",
    "    index_col='id'\n",
    ")"
   ]
  },
  {
   "cell_type": "code",
   "execution_count": null,
   "id": "167f7791",
   "metadata": {},
   "outputs": [],
   "source": [
    "intakes_per_person"
   ]
  },
  {
   "cell_type": "code",
   "execution_count": null,
   "id": "e343d9c2",
   "metadata": {},
   "outputs": [],
   "source": [
    "master_data = participants_master.merge(\n",
    "    intakes_per_person,\n",
    "    left_index=True,\n",
    "    right_index=True,    \n",
    ")"
   ]
  },
  {
   "cell_type": "markdown",
   "id": "709dc3c6",
   "metadata": {},
   "source": [
    "## Filtering for valid data points"
   ]
  },
  {
   "cell_type": "code",
   "execution_count": null,
   "id": "682e6141",
   "metadata": {},
   "outputs": [],
   "source": [
    "fltr = (master_data.diet_main.notnull()) & (master_data.fr_days>=3)\n",
    "participants = master_data[fltr]\n",
    "\n",
    "children = participants[participants.age_q < 3650] #choosing 10y as cutoff as study is of preschool children"
   ]
  },
  {
   "cell_type": "markdown",
   "id": "9789e2bb",
   "metadata": {},
   "source": [
    "# Analysis"
   ]
  },
  {
   "cell_type": "code",
   "execution_count": null,
   "id": "25666bea",
   "metadata": {},
   "outputs": [],
   "source": [
    "#reused in several plots\n",
    "diet_classes=['vegan','vegetarian','mixed_diet']"
   ]
  },
  {
   "cell_type": "code",
   "execution_count": null,
   "id": "96a7d5f2",
   "metadata": {},
   "outputs": [],
   "source": [
    "df = children[['ep-FAPU','e-FASAT','FIBC_per_e','CHOLE_per_e','asep']]\n",
    "\n",
    "table = []\n",
    "for c in df.columns[:-1]: #all but last column, i.e. asep\n",
    "    pr, pp = pearsonr(df.asep,df[c])\n",
    "    #print(pp)\n",
    "    table.append(['asep',c,pr,pp])\n",
    "\n",
    "df = pd.DataFrame(table,columns=['x','y','pearson_r','pearson_p'])\n",
    "df['fdr_bh_0_05'] = multipletests(df['pearson_p'], alpha=0.05, method='fdr_bh')[0]\n",
    "df = df.sort_values(by='pearson_p')\n",
    "#df = df.round(3)\n",
    "#display(df)\n",
    "df.to_excel('../out/correlation_macro_intakes_children.xlsx')"
   ]
  },
  {
   "cell_type": "code",
   "execution_count": null,
   "id": "d3939d3c",
   "metadata": {},
   "outputs": [],
   "source": [
    "df = children.groupby('diet_main').asep.describe()\n",
    "display(df)\n",
    "df.to_excel('../out/asep_describe_by_diet_children.xlsx')"
   ]
  },
  {
   "cell_type": "markdown",
   "id": "7f732e7a",
   "metadata": {},
   "source": [
    "# Figures"
   ]
  },
  {
   "cell_type": "code",
   "execution_count": null,
   "id": "ae5e5790",
   "metadata": {},
   "outputs": [],
   "source": [
    "scale=10\n",
    "sns.set_theme(style='white',font_scale=2)\n",
    "sns.set_context(\"paper\")\n",
    "\n",
    "tricolor_palette=['#55a868','#dd8452','#4c72b0']"
   ]
  },
  {
   "cell_type": "code",
   "execution_count": null,
   "id": "81101a1d",
   "metadata": {},
   "outputs": [],
   "source": [
    "from string import ascii_lowercase\n",
    "\n",
    "markers=['o','s','^']\n",
    "\n",
    "def regplot_asep(df,ax,y,y_label,set_xlabel=True):\n",
    "    ax.set_xlim(-0.01, df.asep.max()+0.01)\n",
    "    sns.regplot(ax=ax, x='asep', y=y, scatter=False, data=df)\n",
    "    sns.scatterplot(\n",
    "        ax=ax, \n",
    "        x='asep', \n",
    "        y=y, \n",
    "        hue='diet_main',\n",
    "        hue_order=diet_classes,\n",
    "        style='diet_main',\n",
    "        markers=markers,\n",
    "        data=df, \n",
    "        s=30*scale,\n",
    "        palette=tricolor_palette,\n",
    "        legend=False\n",
    "    )\n",
    "    if set_xlabel:\n",
    "        ax.set_xlabel('Animal source energy proportion')\n",
    "    else:\n",
    "        ax.set_xlabel(None)\n",
    "    ax.set_ylabel(y_label)\n",
    "\n",
    "\n",
    "from matplotlib.lines import Line2D\n",
    "def splats(n):\n",
    "    return [\n",
    "        Line2D(\n",
    "            [0], \n",
    "            [0], \n",
    "            marker=markers[i],\n",
    "            color='w',\n",
    "            markerfacecolor=tricolor_palette[i],\n",
    "            markersize=15\n",
    "        )\n",
    "        for i in range(0,n)\n",
    "    ]\n",
    "\n",
    "\n",
    "def fig_of_regplots(df,ys,cols=2):\n",
    "\n",
    "    plt.close()\n",
    "    sns.set_theme(style='white',font_scale=2)\n",
    "    \n",
    "    rows = int(len(ys)/cols)+(len(ys)%cols > 0)\n",
    "    h = rows*scale\n",
    "    if rows > 1: h+=2\n",
    "    w = cols*scale+2\n",
    "\n",
    "    fig, axs = plt.subplots(rows,cols,figsize=(w,h))\n",
    "        \n",
    "    if rows > 1:\n",
    "        axs_flat = [ax for row in axs for ax in row]\n",
    "    else:\n",
    "        axs_flat = axs\n",
    "\n",
    "    l = list(zip(ys.keys(),ys.values(),axs_flat))\n",
    "    i = 0\n",
    "    for t in l:\n",
    "        ax = t[2]\n",
    "        y = t[0]\n",
    "        regplot_asep(df,ax,y,t[1],set_xlabel=True)\n",
    "        i+=1\n",
    "\n",
    "    for ax in axs_flat[len(ys):]:\n",
    "        fig.delaxes(ax)\n",
    "        \n",
    "    from matplotlib.lines import Line2D\n",
    "    \n",
    "    plt.figlegend(splats(3),diet_classes,loc='right')\n",
    "        \n",
    "    return fig, axs"
   ]
  },
  {
   "cell_type": "code",
   "execution_count": null,
   "id": "312dc898",
   "metadata": {},
   "outputs": [],
   "source": [
    "# a multi-panel graph of macro intakes linear model correlation with asep\n",
    "sns.set_context(\"paper\")\n",
    "\n",
    "ys = {\n",
    "    'ep-FAT': 'Total Fat (E%)',\n",
    "    'ep-FAPU': 'Polyunsaturated fatty acids (E%)',\n",
    "    'ep-FASAT': 'Saturated fatty acids (E%)',\n",
    "    'ep-CHOAVL': 'Carbohydrates (E%)',\n",
    "    'ep-PROT': 'Protein (E%)',\n",
    "    'FIBC_per_e': 'Fiber (g/MJ)',\n",
    "}\n",
    "\n",
    "fig, axs = fig_of_regplots(children,ys,cols=3)\n",
    "\n",
    "#plt.show()\n",
    "plt.savefig('../out/macro_intakes_children.png')\n",
    "plt.close()"
   ]
  },
  {
   "cell_type": "code",
   "execution_count": null,
   "id": "62a9d6eb",
   "metadata": {},
   "outputs": [],
   "source": [
    "# a multi-panel graph of fat metabolism intakes linear model correlation with asep\n",
    "sns.set_context(\"paper\")\n",
    "\n",
    "ys = {\n",
    "    'ep-FASAT': 'Saturated fatty acids (E%)',\n",
    "    'ep-FAPU': 'Polyunsaturated fatty acids (E%)',\n",
    "    'CHOLE_per_e': 'Cholesterol (mg/MJ)',\n",
    "    'FIBC_per_e': 'Fiber (g/MJ)',    \n",
    "}\n",
    "\n",
    "fig, axs = fig_of_regplots(children,ys,cols=2)\n",
    "\n",
    "#plt.show()\n",
    "plt.savefig('../out/fat_fibc_intakes_children.png')\n",
    "plt.close()"
   ]
  },
  {
   "cell_type": "code",
   "execution_count": null,
   "id": "6045752e",
   "metadata": {},
   "outputs": [],
   "source": [
    "# a multi-panel graph of micronutrient intakes linear model correlation with asep\n",
    "sns.set_context(\"paper\")\n",
    "\n",
    "ys = {\n",
    "    'F20D5N3_daily_mean': 'EPA (mg/d)',\n",
    "    'F22D6N3_daily_mean': 'DHA (mg/d)',\n",
    "    'F18D2CN6_daily_mean': 'Linoleic acid (mg/d)',\n",
    "    'F18D3N3_daily_mean': 'Alpha-linoleic acid (mg/d)',\n",
    "    'FE_daily_mean': 'Iron (mg/d)',\n",
    "    'CA_daily_mean': 'Calcium (mg/d)',\n",
    "    'FOL_daily_mean': 'Folate (HPLC) (μg/d)',\n",
    "    'VITC_daily_mean': 'Ascorbic acid (mg/d)',\n",
    "}\n",
    "\n",
    "fig, axs = fig_of_regplots(children,ys,cols=3)\n",
    "\n",
    "#plt.show()\n",
    "plt.savefig('../out/micro_intakes_children.png')\n",
    "plt.close()"
   ]
  },
  {
   "cell_type": "code",
   "execution_count": null,
   "id": "05e0fbfb",
   "metadata": {},
   "outputs": [],
   "source": [
    "#histogram of asep values in buckets of 5% and coloured according to reported diet\n",
    "\n",
    "fg = sns.displot(\n",
    "    children,\n",
    "    x='asep',\n",
    "    binwidth=0.05,\n",
    "    hue='diet_main',\n",
    "    hue_order=diet_classes,\n",
    "    multiple='stack',\n",
    "    height=scale,\n",
    "    palette=tricolor_palette\n",
    ")\n",
    "fg.axes[0,0].set_xlabel('Animal source energy proportion')\n",
    "fg.axes[0,0].set_ylabel('Number of participants')\n",
    "\n",
    "plt.savefig(f'../out/displot_asep_diet_class_children.png')\n",
    "plt.close()"
   ]
  }
 ],
 "metadata": {
  "kernelspec": {
   "display_name": "Python 3 (ipykernel)",
   "language": "python",
   "name": "python3"
  },
  "language_info": {
   "codemirror_mode": {
    "name": "ipython",
    "version": 3
   },
   "file_extension": ".py",
   "mimetype": "text/x-python",
   "name": "python",
   "nbconvert_exporter": "python",
   "pygments_lexer": "ipython3",
   "version": "3.9.13"
  }
 },
 "nbformat": 4,
 "nbformat_minor": 5
}
